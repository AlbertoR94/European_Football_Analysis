{
 "cells": [
  {
   "cell_type": "markdown",
   "id": "9b4824bc-5a9c-4760-b18e-29ca51566882",
   "metadata": {
    "tags": []
   },
   "source": [
    "# Which European Football League is the best (according to data)? "
   ]
  },
  {
   "cell_type": "markdown",
   "id": "06b15878-2e9a-4eb2-882d-72cf6002476f",
   "metadata": {},
   "source": [
    "In this project I analyze the Football Database that can be downloaded at the following [link](https://www.kaggle.com/datasets/davidcariboo/player-scores). This database that contains information about football games, players, games events, and competitions during the period 2012-2022, can be used to reveal meaningful insights about the main football leagues in Europe. \n",
    "\n",
    "Football is the most popular sport in the world with an estimated of 250 million active players according to [Wikipedia](https://en.wikipedia.org/wiki/Association_football). Furthermore, millions of tv spectators watch football matches of their favorite club playing both domestic and international competitions. Each competition, club, and player provide an incredible amount of data that can be processed and analyzed to reveal hidden patterns. \n",
    "\n",
    "To analyze the information in this database I will use mainly PySpark and SQL and also some other libraries to build some visualizations. PySpark is the Python API for Apache Spark and is a powerful tool for working with Big Data. Although this database is not large enough or complex to be considered as Big Data, it provides a good starting point for learning PySpark and SQL. "
   ]
  },
  {
   "cell_type": "code",
   "execution_count": 1,
   "id": "c0f21105-72aa-44c9-ab08-8cdb68ad6071",
   "metadata": {},
   "outputs": [],
   "source": [
    "# import libraries\n",
    "import os\n",
    "import numpy as np\n",
    "import pandas as pd\n",
    "import matplotlib.pyplot as plt\n",
    "import seaborn as sns"
   ]
  },
  {
   "cell_type": "code",
   "execution_count": 2,
   "id": "1e9d286b-31f8-4850-a606-d2fc90594564",
   "metadata": {},
   "outputs": [
    {
     "name": "stderr",
     "output_type": "stream",
     "text": [
      "23/06/26 07:46:06 WARN Utils: Your hostname, betor94-Satellite-L845D resolves to a loopback address: 127.0.1.1; using 192.168.0.2 instead (on interface wlp2s0)\n",
      "23/06/26 07:46:06 WARN Utils: Set SPARK_LOCAL_IP if you need to bind to another address\n",
      "Setting default log level to \"WARN\".\n",
      "To adjust logging level use sc.setLogLevel(newLevel). For SparkR, use setLogLevel(newLevel).\n",
      "23/06/26 07:46:16 WARN NativeCodeLoader: Unable to load native-hadoop library for your platform... using builtin-java classes where applicable\n"
     ]
    }
   ],
   "source": [
    "# To start using PySpark we need to create a new session, this automatically creates a new SparkContext\n",
    "from pyspark.sql import SparkSession\n",
    "\n",
    "spark = SparkSession.builder.appName(\"FootballApp\").getOrCreate()"
   ]
  },
  {
   "cell_type": "code",
   "execution_count": 3,
   "id": "130a6764-48b3-4bb9-a99e-d42c0e34b589",
   "metadata": {},
   "outputs": [
    {
     "name": "stdout",
     "output_type": "stream",
     "text": [
      "Spark Session:\n"
     ]
    },
    {
     "data": {
      "text/html": [
       "\n",
       "            <div>\n",
       "                <p><b>SparkSession - in-memory</b></p>\n",
       "                \n",
       "        <div>\n",
       "            <p><b>SparkContext</b></p>\n",
       "\n",
       "            <p><a href=\"http://192.168.0.2:4040\">Spark UI</a></p>\n",
       "\n",
       "            <dl>\n",
       "              <dt>Version</dt>\n",
       "                <dd><code>v3.4.0</code></dd>\n",
       "              <dt>Master</dt>\n",
       "                <dd><code>local[*]</code></dd>\n",
       "              <dt>AppName</dt>\n",
       "                <dd><code>FootballApp</code></dd>\n",
       "            </dl>\n",
       "        </div>\n",
       "        \n",
       "            </div>\n",
       "        "
      ],
      "text/plain": [
       "<pyspark.sql.session.SparkSession at 0x7f87c4da4370>"
      ]
     },
     "execution_count": 3,
     "metadata": {},
     "output_type": "execute_result"
    }
   ],
   "source": [
    "print(\"Spark Session:\")\n",
    "spark"
   ]
  },
  {
   "cell_type": "code",
   "execution_count": 4,
   "id": "7c377004-b8b3-4925-b661-d955d3567205",
   "metadata": {},
   "outputs": [
    {
     "data": {
      "text/plain": [
       "'/home/betor94/Documents/Projects/Football Project/files'"
      ]
     },
     "execution_count": 4,
     "metadata": {},
     "output_type": "execute_result"
    }
   ],
   "source": [
    "# This is the folder containing the data\n",
    "files_path = os.path.join(os.getcwd(), 'files')\n",
    "files_path"
   ]
  },
  {
   "cell_type": "code",
   "execution_count": 5,
   "id": "83d23096-9a64-4b47-9d74-15a1a982fd81",
   "metadata": {},
   "outputs": [
    {
     "name": "stdout",
     "output_type": "stream",
     "text": [
      "competitions.csv\n",
      "clubs.csv\n",
      "club_games.csv\n",
      "games.csv\n",
      "player_valuations.csv\n",
      "appearances.csv\n",
      "players.csv\n",
      "game_events.csv\n"
     ]
    }
   ],
   "source": [
    "# List all files in folder\n",
    "print(*os.listdir(files_path), sep='\\n')"
   ]
  },
  {
   "cell_type": "code",
   "execution_count": 6,
   "id": "7fa2dba9-fab6-4b85-880a-28cb070da934",
   "metadata": {},
   "outputs": [
    {
     "data": {
      "text/plain": [
       "['competitions',\n",
       " 'clubs',\n",
       " 'club_games',\n",
       " 'games',\n",
       " 'player_valuations',\n",
       " 'appearances',\n",
       " 'players',\n",
       " 'game_events']"
      ]
     },
     "execution_count": 6,
     "metadata": {},
     "output_type": "execute_result"
    }
   ],
   "source": [
    "# Store the name files into a list\n",
    "names = list(map(lambda x: x.split('.')[0], os.listdir(files_path)))\n",
    "names"
   ]
  },
  {
   "cell_type": "markdown",
   "id": "bb50e72c-7606-4262-b28d-8423f9571840",
   "metadata": {
    "tags": []
   },
   "source": [
    "## Loading data "
   ]
  },
  {
   "cell_type": "code",
   "execution_count": 7,
   "id": "49a2c1ea-bd18-4993-bc1b-252e9368bbde",
   "metadata": {
    "tags": []
   },
   "outputs": [
    {
     "name": "stderr",
     "output_type": "stream",
     "text": [
      "                                                                                \r"
     ]
    }
   ],
   "source": [
    "# We use spark .csv method to read data into dataframes. \n",
    "# The information is not loaded in memory until an action is executed\n",
    "competitions = spark.read.csv('files/competitions.csv', header=True, inferSchema=True)\n",
    "clubs = spark.read.csv('files/clubs.csv', header=True, inferSchema=True)\n",
    "club_games = spark.read.csv('files/club_games.csv', header=True, inferSchema=True)\n",
    "games = spark.read.csv('files/games.csv', header=True, inferSchema=True)\n",
    "player_valuations = spark.read.csv('files/player_valuations.csv', header=True, inferSchema=True)\n",
    "appearances = spark.read.csv('files/appearances.csv', header=True, inferSchema=True)\n",
    "players = spark.read.csv('files/players.csv', header=True, inferSchema=True)\n",
    "game_events = spark.read.csv('files/game_events.csv', header=True, inferSchema=True)"
   ]
  },
  {
   "cell_type": "code",
   "execution_count": 8,
   "id": "88ef0a9a-472c-4769-bfd2-3c90690f3bff",
   "metadata": {},
   "outputs": [],
   "source": [
    "# Store dataframes into a list\n",
    "dataframes = [competitions, clubs, club_games, games,\n",
    "              player_valuations, appearances, players, game_events]"
   ]
  },
  {
   "cell_type": "code",
   "execution_count": 9,
   "id": "aa90a292-af34-48a9-a7fa-828acd43f14a",
   "metadata": {},
   "outputs": [
    {
     "name": "stdout",
     "output_type": "stream",
     "text": [
      "root\n",
      " |-- competition_id: string (nullable = true)\n",
      " |-- competition_code: string (nullable = true)\n",
      " |-- name: string (nullable = true)\n",
      " |-- sub_type: string (nullable = true)\n",
      " |-- type: string (nullable = true)\n",
      " |-- country_id: integer (nullable = true)\n",
      " |-- country_name: string (nullable = true)\n",
      " |-- domestic_league_code: string (nullable = true)\n",
      " |-- confederation: string (nullable = true)\n",
      " |-- url: string (nullable = true)\n",
      "\n",
      "None\n"
     ]
    }
   ],
   "source": [
    "# We can use the printSchema method to find datatypes\n",
    "print(competitions.printSchema())"
   ]
  },
  {
   "cell_type": "code",
   "execution_count": 10,
   "id": "84524628-e58c-4246-aef4-d3c9fd0f382c",
   "metadata": {},
   "outputs": [],
   "source": [
    "# To run sql queries we need to create temporary tables \n",
    "competitions.createOrReplaceTempView(\"Competitions\")\n",
    "clubs.createOrReplaceTempView(\"Clubs\")\n",
    "club_games.createOrReplaceTempView(\"Club_games\")\n",
    "games.createOrReplaceTempView(\"Games\")\n",
    "player_valuations.createOrReplaceTempView(\"Valuations\")\n",
    "appearances.createOrReplaceTempView(\"Appearances\")\n",
    "players.createOrReplaceTempView(\"Players\")\n",
    "game_events.createOrReplaceTempView(\"Events\")"
   ]
  },
  {
   "cell_type": "code",
   "execution_count": 11,
   "id": "c12a5914-1bc6-49df-a8c9-2a9c821ec06a",
   "metadata": {},
   "outputs": [
    {
     "data": {
      "text/plain": [
       "[Table(name='Appearances', catalog=None, namespace=[], description=None, tableType='TEMPORARY', isTemporary=True),\n",
       " Table(name='Club_games', catalog=None, namespace=[], description=None, tableType='TEMPORARY', isTemporary=True),\n",
       " Table(name='Clubs', catalog=None, namespace=[], description=None, tableType='TEMPORARY', isTemporary=True),\n",
       " Table(name='Competitions', catalog=None, namespace=[], description=None, tableType='TEMPORARY', isTemporary=True),\n",
       " Table(name='Events', catalog=None, namespace=[], description=None, tableType='TEMPORARY', isTemporary=True),\n",
       " Table(name='Games', catalog=None, namespace=[], description=None, tableType='TEMPORARY', isTemporary=True),\n",
       " Table(name='Players', catalog=None, namespace=[], description=None, tableType='TEMPORARY', isTemporary=True),\n",
       " Table(name='Valuations', catalog=None, namespace=[], description=None, tableType='TEMPORARY', isTemporary=True)]"
      ]
     },
     "execution_count": 11,
     "metadata": {},
     "output_type": "execute_result"
    }
   ],
   "source": [
    "# list all tables in the database\n",
    "spark.catalog.listTables()"
   ]
  },
  {
   "cell_type": "markdown",
   "id": "c5808e7d-d75c-458b-a75e-d1b035820464",
   "metadata": {},
   "source": [
    "## Problem statement"
   ]
  },
  {
   "cell_type": "markdown",
   "id": "440169ef-7536-477b-be7f-6f0f66cfa5a7",
   "metadata": {},
   "source": [
    "Before beginning any kind of analysis is important to state what we are trying to achieve in this project; that is, what is the problem to be solved. Since we have information about all football leagues in Europe we can use data, statistics, and visualizations to compare their performance; this way, we can answer the question: Which European Football League is the best?. Of course this question is very general and does not tell us where we should start. Furthermore, this database does not provide information about tv-rights deals, sponsorship deals or audience numbers. For these reasons, we first need to define what does it mean to be the best football league in a purely sporting context and use this to formulate more specific questions that can be answered using this database.\n",
    "\n",
    "To measure the performance of each football league we can use **metrics** such as:\n",
    "- total number of goals in a season or the average number of goals per game\n",
    "- difference in points from first to last which measures how competitive the league is\n",
    "- the number of different champions over the analyzed period \n",
    "- the number of clubs playing the knockout stage of international competitions \n",
    "- number of points and victories at international competitions \n",
    "- the number of top players playing the domestic tournament (assuming all players are fairly valued according to their skills)\n",
    "\n",
    "Using these metrics we can start exploring the difference, in terms of performance, between different European football leagues. Note, however, that these metrics are not exhaustive and only measure some elements that reflect the general performance of a country league.\n",
    "\n",
    "The **first goal** is to generate a dataset that contains all information related to these metrics. Once this dataset is ready, the **second goal** is to build visualizations and compute metrics that allows us to answer the main question. "
   ]
  },
  {
   "cell_type": "markdown",
   "id": "fa0d5370-2519-40bd-91e7-9fc04967b001",
   "metadata": {
    "tags": []
   },
   "source": [
    "## Exploratory Data Analysis"
   ]
  },
  {
   "cell_type": "markdown",
   "id": "53d243eb-a170-46c6-9895-971ba9f79db1",
   "metadata": {},
   "source": [
    "We can start by making an elementary exploration of data such as counting the number of rows and columns in each dataframe, counting the number of missing values, or computing some summary statistics for numeric variables."
   ]
  },
  {
   "cell_type": "code",
   "execution_count": 46,
   "id": "1674711d-4e8b-44f6-b841-11e342aabcb7",
   "metadata": {},
   "outputs": [
    {
     "name": "stdout",
     "output_type": "stream",
     "text": [
      "Table: competitions has 43 rows and 10 columns\n",
      "-------------------\n",
      "Table: clubs has 411 rows and 16 columns\n",
      "-------------------\n",
      "Table: club_games has 124494 rows and 11 columns\n",
      "-------------------\n",
      "Table: games has 62247 rows and 21 columns\n",
      "-------------------\n"
     ]
    },
    {
     "name": "stderr",
     "output_type": "stream",
     "text": [
      "                                                                                \r"
     ]
    },
    {
     "name": "stdout",
     "output_type": "stream",
     "text": [
      "Table: player_valuations has 424867 rows and 9 columns\n",
      "-------------------\n"
     ]
    },
    {
     "name": "stderr",
     "output_type": "stream",
     "text": [
      "                                                                                \r"
     ]
    },
    {
     "name": "stdout",
     "output_type": "stream",
     "text": [
      "Table: appearances has 1175579 rows and 13 columns\n",
      "-------------------\n"
     ]
    },
    {
     "name": "stderr",
     "output_type": "stream",
     "text": [
      "                                                                                \r"
     ]
    },
    {
     "name": "stdout",
     "output_type": "stream",
     "text": [
      "Table: players has 28472 rows and 23 columns\n",
      "-------------------\n"
     ]
    },
    {
     "name": "stderr",
     "output_type": "stream",
     "text": [
      "[Stage 71:===========================================>              (3 + 1) / 4]\r"
     ]
    },
    {
     "name": "stdout",
     "output_type": "stream",
     "text": [
      "Table: game_events has 568252 rows and 7 columns\n",
      "-------------------\n"
     ]
    },
    {
     "name": "stderr",
     "output_type": "stream",
     "text": [
      "                                                                                \r"
     ]
    }
   ],
   "source": [
    "for name, df in zip(names, dataframes):\n",
    "    print(\"Table: {} has {} rows and {} columns\".format(name, df.count(), len(df.columns)))\n",
    "    print(\"-------------------\")"
   ]
  },
  {
   "cell_type": "markdown",
   "id": "ad04c0d7-00c3-4b0f-b110-3faa302fd311",
   "metadata": {},
   "source": [
    "Since the number of columns is large for some dataframes, for the moment I will not count the number of missing values and deal with them when necessary."
   ]
  },
  {
   "cell_type": "markdown",
   "id": "1e972018-ff70-478f-9018-dff78dbb0408",
   "metadata": {
    "tags": []
   },
   "source": [
    "### Dataframes columns"
   ]
  },
  {
   "cell_type": "code",
   "execution_count": 23,
   "id": "bca425b6-1f16-4f9c-8797-bab56a15cf16",
   "metadata": {},
   "outputs": [],
   "source": [
    "def print_columns(name, dataframe):\n",
    "    print(name.capitalize())\n",
    "    print('------------------------------')\n",
    "    print('------------------------------')\n",
    "    print(*dataframe.columns, sep='\\n')\n",
    "    print('------------------------------')"
   ]
  },
  {
   "cell_type": "code",
   "execution_count": 24,
   "id": "73efcd53-c2ac-4b60-9de4-5e1fff91a535",
   "metadata": {},
   "outputs": [
    {
     "name": "stdout",
     "output_type": "stream",
     "text": [
      "Competitions\n",
      "------------------------------\n",
      "------------------------------\n",
      "competition_id\n",
      "competition_code\n",
      "name\n",
      "sub_type\n",
      "type\n",
      "country_id\n",
      "country_name\n",
      "domestic_league_code\n",
      "confederation\n",
      "url\n",
      "------------------------------\n",
      "Clubs\n",
      "------------------------------\n",
      "------------------------------\n",
      "club_id\n",
      "club_code\n",
      "name\n",
      "domestic_competition_id\n",
      "total_market_value\n",
      "squad_size\n",
      "average_age\n",
      "foreigners_number\n",
      "foreigners_percentage\n",
      "national_team_players\n",
      "stadium_name\n",
      "stadium_seats\n",
      "net_transfer_record\n",
      "coach_name\n",
      "last_season\n",
      "url\n",
      "------------------------------\n",
      "Club_games\n",
      "------------------------------\n",
      "------------------------------\n",
      "game_id\n",
      "club_id\n",
      "own_goals\n",
      "own_position\n",
      "own_manager_name\n",
      "opponent_id\n",
      "opponent_goals\n",
      "opponent_position\n",
      "opponent_manager_name\n",
      "hosting\n",
      "is_win\n",
      "------------------------------\n",
      "Games\n",
      "------------------------------\n",
      "------------------------------\n",
      "game_id\n",
      "competition_id\n",
      "season\n",
      "round\n",
      "date\n",
      "home_club_id\n",
      "away_club_id\n",
      "home_club_goals\n",
      "away_club_goals\n",
      "home_club_position\n",
      "away_club_position\n",
      "home_club_manager_name\n",
      "away_club_manager_name\n",
      "stadium\n",
      "attendance\n",
      "referee\n",
      "url\n",
      "home_club_name\n",
      "away_club_name\n",
      "aggregate\n",
      "competition_type\n",
      "------------------------------\n",
      "Player_valuations\n",
      "------------------------------\n",
      "------------------------------\n",
      "player_id\n",
      "last_season\n",
      "datetime\n",
      "date\n",
      "dateweek\n",
      "market_value_in_eur\n",
      "n\n",
      "current_club_id\n",
      "player_club_domestic_competition_id\n",
      "------------------------------\n",
      "Appearances\n",
      "------------------------------\n",
      "------------------------------\n",
      "appearance_id\n",
      "game_id\n",
      "player_id\n",
      "player_club_id\n",
      "player_current_club_id\n",
      "date\n",
      "player_name\n",
      "competition_id\n",
      "yellow_cards\n",
      "red_cards\n",
      "goals\n",
      "assists\n",
      "minutes_played\n",
      "------------------------------\n",
      "Players\n",
      "------------------------------\n",
      "------------------------------\n",
      "player_id\n",
      "first_name\n",
      "last_name\n",
      "name\n",
      "last_season\n",
      "current_club_id\n",
      "player_code\n",
      "country_of_birth\n",
      "city_of_birth\n",
      "country_of_citizenship\n",
      "date_of_birth\n",
      "sub_position\n",
      "position\n",
      "foot\n",
      "height_in_cm\n",
      "market_value_in_eur\n",
      "highest_market_value_in_eur\n",
      "contract_expiration_date\n",
      "agent_name\n",
      "image_url\n",
      "url\n",
      "current_club_domestic_competition_id\n",
      "current_club_name\n",
      "------------------------------\n",
      "Game_events\n",
      "------------------------------\n",
      "------------------------------\n",
      "game_id\n",
      "minute\n",
      "type\n",
      "club_id\n",
      "player_id\n",
      "description\n",
      "player_in_id\n",
      "------------------------------\n"
     ]
    }
   ],
   "source": [
    "for name, dt in zip(names, dataframes):\n",
    "    print_columns(name, dt)"
   ]
  },
  {
   "cell_type": "markdown",
   "id": "2acdbafb-2703-46f1-9d62-42616c3cc412",
   "metadata": {},
   "source": [
    "For numerical columns we can compute some summary statistics that provide a general picture of the values we can encounter."
   ]
  },
  {
   "cell_type": "code",
   "execution_count": 70,
   "id": "40feab93-bd43-4ba1-bb70-848d39310823",
   "metadata": {},
   "outputs": [],
   "source": [
    "# To explore numerical columns I define a new function\n",
    "def print_statistical_summary(name, dataframe):\n",
    "    print(name.capitalize())\n",
    "    numeric = []\n",
    "    for var, dt in dataframe.dtypes:\n",
    "        if dt != \"string\":\n",
    "            numeric.append(var)\n",
    "    dataframe.describe(numeric[0:5]).show()\n",
    "    if numeric[5:]:\n",
    "        dataframe.describe(numeric[5:]).show()\n",
    "    print(\"----------------------------\")"
   ]
  },
  {
   "cell_type": "code",
   "execution_count": 71,
   "id": "e3a088d5-cdf9-4cd9-aeac-7f5884a4a09c",
   "metadata": {},
   "outputs": [
    {
     "name": "stdout",
     "output_type": "stream",
     "text": [
      "Competitions\n",
      "+-------+-----------------+\n",
      "|summary|       country_id|\n",
      "+-------+-----------------+\n",
      "|  count|               43|\n",
      "|   mean|97.09302325581395|\n",
      "| stddev|69.76689553126808|\n",
      "|    min|               -1|\n",
      "|    max|              190|\n",
      "+-------+-----------------+\n",
      "\n",
      "----------------------------\n",
      "Clubs\n",
      "+-------+------------------+-----------------+------------------+------------------+---------------------+\n",
      "|summary|           club_id|       squad_size|       average_age| foreigners_number|foreigners_percentage|\n",
      "+-------+------------------+-----------------+------------------+------------------+---------------------+\n",
      "|  count|               411|              411|               373|               411|                  365|\n",
      "|   mean| 4879.778588807786|24.51094890510949|25.691152815013417|10.914841849148418|    44.86410958904111|\n",
      "| stddev|10896.048964698235| 8.89130854452641|1.4859022134296458| 6.629207263190824|    19.52414395948243|\n",
      "|    min|                 3|                0|              21.0|                 0|                  2.4|\n",
      "|    max|             83678|               41|              29.5|                27|                100.0|\n",
      "+-------+------------------+-----------------+------------------+------------------+---------------------+\n",
      "\n",
      "+-------+---------------------+-----------------+------------------+\n",
      "|summary|national_team_players|    stadium_seats|       last_season|\n",
      "+-------+---------------------+-----------------+------------------+\n",
      "|  count|                  411|              411|               411|\n",
      "|   mean|    4.875912408759124|24794.14111922141|2020.1313868613138|\n",
      "| stddev|    5.102049213568497|17537.53637548617|2.8707546001641333|\n",
      "|    min|                    0|                0|              2012|\n",
      "|    max|                   25|            99354|              2022|\n",
      "+-------+---------------------+-----------------+------------------+\n",
      "\n",
      "----------------------------\n",
      "Club_games\n"
     ]
    },
    {
     "name": "stderr",
     "output_type": "stream",
     "text": [
      "                                                                                \r"
     ]
    },
    {
     "name": "stdout",
     "output_type": "stream",
     "text": [
      "+-------+-----------------+------------------+------------------+------------------+------------------+\n",
      "|summary|          game_id|           club_id|         own_goals|      own_position|       opponent_id|\n",
      "+-------+-----------------+------------------+------------------+------------------+------------------+\n",
      "|  count|           124494|            124494|            124494|            124494|            124494|\n",
      "|   mean|2966066.685302103| 4442.117684386396|1.4473629251208893|6.3571577746718715| 4442.117684386396|\n",
      "| stddev| 517521.454539547|10212.433373310649|1.3897735782259686| 6.497729526305896|10212.433373310718|\n",
      "|    min|          2211607|                 1|                 0|                -1|                 1|\n",
      "|    max|          4080529|            102261|                16|                21|            102261|\n",
      "+-------+-----------------+------------------+------------------+------------------+------------------+\n",
      "\n"
     ]
    },
    {
     "name": "stderr",
     "output_type": "stream",
     "text": [
      "                                                                                \r"
     ]
    },
    {
     "name": "stdout",
     "output_type": "stream",
     "text": [
      "+-------+------------------+------------------+-------------------+\n",
      "|summary|    opponent_goals| opponent_position|             is_win|\n",
      "+-------+------------------+------------------+-------------------+\n",
      "|  count|            124494|            124494|             124494|\n",
      "|   mean|1.4473629251208893|6.3571577746718715|0.39197872989862964|\n",
      "| stddev|1.3897735782259666| 6.497729526305901|0.48819393648610476|\n",
      "|    min|                 0|                -1|                  0|\n",
      "|    max|                16|                21|                  1|\n",
      "+-------+------------------+------------------+-------------------+\n",
      "\n",
      "----------------------------\n",
      "Games\n",
      "+-------+-----------------+-----------------+------------------+-----------------+\n",
      "|summary|          game_id|           season|      home_club_id|     away_club_id|\n",
      "+-------+-----------------+-----------------+------------------+-----------------+\n",
      "|  count|            62247|            62247|             62247|            62247|\n",
      "|   mean|2966066.685302103|2016.986633894003|  4650.73977862387|4233.495590148923|\n",
      "| stddev|517523.5330683493|3.181193126575494|10713.457442622454|9681.118126998766|\n",
      "|    min|          2211607|             2012|                 1|                2|\n",
      "|    max|          4080529|             2022|            102251|           102261|\n",
      "+-------+-----------------+-----------------+------------------+-----------------+\n",
      "\n"
     ]
    },
    {
     "name": "stderr",
     "output_type": "stream",
     "text": [
      "                                                                                \r"
     ]
    },
    {
     "name": "stdout",
     "output_type": "stream",
     "text": [
      "+-------+------------------+------------------+------------------+------------------+------------------+\n",
      "|summary|   home_club_goals|   away_club_goals|home_club_position|away_club_position|        attendance|\n",
      "+-------+------------------+------------------+------------------+------------------+------------------+\n",
      "|  count|             62247|             62247|             62247|             62247|             53198|\n",
      "|   mean| 1.586052339871801|1.3086735103699776|  6.29366877118576| 6.420646778157984|18079.686397984886|\n",
      "| stddev|1.4194567096379545|1.3452303709834057|6.4611918067823995| 6.533497905238402|17757.992607574455|\n",
      "|    min|                 0|                 0|                -1|                -1|                 1|\n",
      "|    max|                15|                16|                21|                21|             99354|\n",
      "+-------+------------------+------------------+------------------+------------------+------------------+\n",
      "\n",
      "----------------------------\n",
      "Player_valuations\n"
     ]
    },
    {
     "name": "stderr",
     "output_type": "stream",
     "text": [
      "                                                                                \r"
     ]
    },
    {
     "name": "stdout",
     "output_type": "stream",
     "text": [
      "+-------+------------------+------------------+\n",
      "|summary|         player_id|       last_season|\n",
      "+-------+------------------+------------------+\n",
      "|  count|            424867|            424867|\n",
      "|   mean|186950.91933475653|2018.2973377551093|\n",
      "| stddev|169537.22138299808| 3.304754538067335|\n",
      "|    min|                10|              2012|\n",
      "|    max|           1112706|              2022|\n",
      "+-------+------------------+------------------+\n",
      "\n"
     ]
    },
    {
     "name": "stderr",
     "output_type": "stream",
     "text": [
      "                                                                                \r"
     ]
    },
    {
     "name": "stdout",
     "output_type": "stream",
     "text": [
      "+-------+-------------------+------+-----------------+\n",
      "|summary|market_value_in_eur|     n|  current_club_id|\n",
      "+-------+-------------------+------+-----------------+\n",
      "|  count|             424867|424867|           424867|\n",
      "|   mean|  2347608.524547682|   1.0|3867.893806767765|\n",
      "| stddev| 6553862.7228347715|   0.0|9036.474845012157|\n",
      "|    min|              10000|     1|                3|\n",
      "|    max|          200000000|     1|            83678|\n",
      "+-------+-------------------+------+-----------------+\n",
      "\n",
      "----------------------------\n",
      "Appearances\n"
     ]
    },
    {
     "name": "stderr",
     "output_type": "stream",
     "text": [
      "                                                                                \r"
     ]
    },
    {
     "name": "stdout",
     "output_type": "stream",
     "text": [
      "+-------+------------------+------------------+------------------+----------------------+\n",
      "|summary|           game_id|         player_id|    player_club_id|player_current_club_id|\n",
      "+-------+------------------+------------------+------------------+----------------------+\n",
      "|  count|           1175579|           1175579|           1175579|               1175579|\n",
      "|   mean|3113330.1659318516|193612.60503632677|2919.3437582672027|    3420.4750186929164|\n",
      "| stddev| 453619.3744400348|159958.30881042063| 7114.998287373003|     8767.238174765418|\n",
      "|    min|           2457642|                10|                 1|                    -1|\n",
      "|    max|           4080529|           1134218|             83678|                 83678|\n",
      "+-------+------------------+------------------+------------------+----------------------+\n",
      "\n"
     ]
    },
    {
     "name": "stderr",
     "output_type": "stream",
     "text": [
      "                                                                                \r"
     ]
    },
    {
     "name": "stdout",
     "output_type": "stream",
     "text": [
      "+-------+-------------------+--------------------+-------------------+-------------------+------------------+\n",
      "|summary|       yellow_cards|           red_cards|              goals|            assists|    minutes_played|\n",
      "+-------+-------------------+--------------------+-------------------+-------------------+------------------+\n",
      "|  count|            1175579|             1175579|            1175579|            1175579|           1175579|\n",
      "|   mean| 0.1487820044420664|0.003641609793982...|0.09641036459480817|0.07338341362001193| 69.64057285814054|\n",
      "| stddev|0.36715162260886397| 0.06023579964214508| 0.3321103255251135| 0.2813578079529804|29.762996549916483|\n",
      "|    min|                  0|                   0|                  0|                  0|                 0|\n",
      "|    max|                  2|                   1|                  6|                  6|               120|\n",
      "+-------+-------------------+--------------------+-------------------+-------------------+------------------+\n",
      "\n",
      "----------------------------\n",
      "Players\n",
      "+-------+------------------+------------------+-----------------+-----------------+\n",
      "|summary|         player_id|       last_season|  current_club_id|     height_in_cm|\n",
      "+-------+------------------+------------------+-----------------+-----------------+\n",
      "|  count|             28472|             28472|            28472|            26758|\n",
      "|   mean| 285730.5652219725|2018.2370047766226|4171.018123068277|182.1935122206443|\n",
      "| stddev|227536.91324777898|3.3391354943637093|9506.958181984388|6.822486650166184|\n",
      "|    min|                10|              2012|                3|               18|\n",
      "|    max|           1134218|              2022|            83678|              207|\n",
      "+-------+------------------+------------------+-----------------+-----------------+\n",
      "\n",
      "+-------+-------------------+---------------------------+\n",
      "|summary|market_value_in_eur|highest_market_value_in_eur|\n",
      "+-------+-------------------+---------------------------+\n",
      "|  count|              17953|                      27452|\n",
      "|   mean| 2264703.6706957053|         3579531.1816989654|\n",
      "| stddev|  7166694.936403452|           9243003.11841246|\n",
      "|    min|              10000|                      10000|\n",
      "|    max|          180000000|                  200000000|\n",
      "+-------+-------------------+---------------------------+\n",
      "\n",
      "----------------------------\n",
      "Game_events\n"
     ]
    },
    {
     "name": "stderr",
     "output_type": "stream",
     "text": [
      "[Stage 239:==========================================>              (3 + 1) / 4]\r"
     ]
    },
    {
     "name": "stdout",
     "output_type": "stream",
     "text": [
      "+-------+-----------------+------------------+------------------+------------------+------------------+\n",
      "|summary|          game_id|            minute|           club_id|         player_id|      player_in_id|\n",
      "+-------+-----------------+------------------+------------------+------------------+------------------+\n",
      "|  count|           568252|            568252|            568252|            568252|            395629|\n",
      "|   mean|3024354.375389792|  64.2179121234945| 4293.782621090643|193156.15723481835| 227991.7994282522|\n",
      "| stddev|532635.3390258882|21.238372501312803|10082.794265506891|172101.48827328222|193932.59735923796|\n",
      "|    min|          2211607|                 1|                 1|                10|                10|\n",
      "|    max|          4080529|               120|            102251|           1120127|           1143823|\n",
      "+-------+-----------------+------------------+------------------+------------------+------------------+\n",
      "\n",
      "----------------------------\n"
     ]
    },
    {
     "name": "stderr",
     "output_type": "stream",
     "text": [
      "                                                                                \r"
     ]
    }
   ],
   "source": [
    "for name, dt in zip(names, dataframes):\n",
    "    print_statistical_summary(name, dt)"
   ]
  },
  {
   "cell_type": "markdown",
   "id": "ed7891be-e8b3-44f5-b394-39fe80ea14c2",
   "metadata": {},
   "source": [
    "By looking at the previous results there seems to be no outliers or suspicious values. Through this analysis, the most important tables will be Competitions, Games and Club_games since they contain relevant information about all matches and competitions. Now it's time to start answering some questions using data. This can be done in two ways: executing SQL queries directly or programatically through pyspark SQL API. I will use the first option."
   ]
  },
  {
   "cell_type": "markdown",
   "id": "25639069-7cf6-418f-8a74-fc640ca5e6db",
   "metadata": {},
   "source": [
    "Let's start by finding **how many football domestic leagues are present in the database** and the **number of clubs in each league for each season over the whole period (2012-2022)**."
   ]
  },
  {
   "cell_type": "code",
   "execution_count": 63,
   "id": "cf9cde7e-85be-4ef1-91e2-a1f562bdbcc3",
   "metadata": {},
   "outputs": [
    {
     "name": "stdout",
     "output_type": "stream",
     "text": [
      "root\n",
      " |-- competition_id: string (nullable = true)\n",
      " |-- competition_code: string (nullable = true)\n",
      " |-- name: string (nullable = true)\n",
      " |-- sub_type: string (nullable = true)\n",
      " |-- type: string (nullable = true)\n",
      " |-- country_id: integer (nullable = true)\n",
      " |-- country_name: string (nullable = true)\n",
      " |-- domestic_league_code: string (nullable = true)\n",
      " |-- confederation: string (nullable = true)\n",
      " |-- url: string (nullable = true)\n",
      "\n",
      "root\n",
      " |-- game_id: integer (nullable = true)\n",
      " |-- competition_id: string (nullable = true)\n",
      " |-- season: integer (nullable = true)\n",
      " |-- round: string (nullable = true)\n",
      " |-- date: date (nullable = true)\n",
      " |-- home_club_id: integer (nullable = true)\n",
      " |-- away_club_id: integer (nullable = true)\n",
      " |-- home_club_goals: integer (nullable = true)\n",
      " |-- away_club_goals: integer (nullable = true)\n",
      " |-- home_club_position: integer (nullable = true)\n",
      " |-- away_club_position: integer (nullable = true)\n",
      " |-- home_club_manager_name: string (nullable = true)\n",
      " |-- away_club_manager_name: string (nullable = true)\n",
      " |-- stadium: string (nullable = true)\n",
      " |-- attendance: integer (nullable = true)\n",
      " |-- referee: string (nullable = true)\n",
      " |-- url: string (nullable = true)\n",
      " |-- home_club_name: string (nullable = true)\n",
      " |-- away_club_name: string (nullable = true)\n",
      " |-- aggregate: timestamp (nullable = true)\n",
      " |-- competition_type: string (nullable = true)\n",
      "\n"
     ]
    }
   ],
   "source": [
    "competitions.printSchema()\n",
    "games.printSchema()"
   ]
  },
  {
   "cell_type": "code",
   "execution_count": 26,
   "id": "70b6ae86-f1ee-4cc0-8a84-7484e7ade3e8",
   "metadata": {},
   "outputs": [],
   "source": [
    "# Here I use a subquery to count the number of clubs in each domestic competition\n",
    "query = '''\n",
    "        SELECT DISTINCT country_name AS Country, name AS LeagueName, confederation,\n",
    "        (SELECT COUNT(*)\n",
    "        FROM Clubs\n",
    "        WHERE Clubs.domestic_competition_id = Competitions.competition_id) AS ClubsCount\n",
    "        FROM Competitions\n",
    "        WHERE Competitions.type = 'domestic_league'\n",
    "        '''\n",
    "\n",
    "df = spark.sql(query)"
   ]
  },
  {
   "cell_type": "code",
   "execution_count": 27,
   "id": "5c7bd404-eb20-4d8e-bac8-42ba4110fc4b",
   "metadata": {},
   "outputs": [
    {
     "name": "stderr",
     "output_type": "stream",
     "text": [
      "                                                                                \r"
     ]
    },
    {
     "name": "stdout",
     "output_type": "stream",
     "text": [
      "+-----------+--------------------+-------------+----------+\n",
      "|    Country|          LeagueName|confederation|ClubsCount|\n",
      "+-----------+--------------------+-------------+----------+\n",
      "|     Turkey|           super-lig|       europa|        38|\n",
      "|   Portugal|  liga-portugal-bwin|       europa|        32|\n",
      "|    England|      premier-league|       europa|        35|\n",
      "|    Denmark|         superligaen|       europa|        19|\n",
      "|     Russia|        premier-liga|       europa|        31|\n",
      "|     France|             ligue-1|       europa|        34|\n",
      "|Netherlands|          eredivisie|       europa|        27|\n",
      "|    Belgium|  jupiler-pro-league|       europa|        25|\n",
      "|    Ukraine|        premier-liga|       europa|        31|\n",
      "|      Spain|              laliga|       europa|        32|\n",
      "|      Italy|             serie-a|       europa|        37|\n",
      "|     Greece|      super-league-1|       europa|        26|\n",
      "|   Scotland|scottish-premiership|       europa|        16|\n",
      "|    Germany|          bundesliga|       europa|        28|\n",
      "+-----------+--------------------+-------------+----------+\n",
      "\n"
     ]
    }
   ],
   "source": [
    "df.show()"
   ]
  },
  {
   "cell_type": "code",
   "execution_count": 32,
   "id": "dd7fa7aa-6438-4879-8abe-41641a50e6b9",
   "metadata": {},
   "outputs": [
    {
     "name": "stdout",
     "output_type": "stream",
     "text": [
      "root\n",
      " |-- game_id: integer (nullable = true)\n",
      " |-- competition_id: string (nullable = true)\n",
      " |-- season: integer (nullable = true)\n",
      " |-- round: string (nullable = true)\n",
      " |-- date: date (nullable = true)\n",
      " |-- home_club_id: integer (nullable = true)\n",
      " |-- away_club_id: integer (nullable = true)\n",
      " |-- home_club_goals: integer (nullable = true)\n",
      " |-- away_club_goals: integer (nullable = true)\n",
      " |-- home_club_position: integer (nullable = true)\n",
      " |-- away_club_position: integer (nullable = true)\n",
      " |-- home_club_manager_name: string (nullable = true)\n",
      " |-- away_club_manager_name: string (nullable = true)\n",
      " |-- stadium: string (nullable = true)\n",
      " |-- attendance: integer (nullable = true)\n",
      " |-- referee: string (nullable = true)\n",
      " |-- url: string (nullable = true)\n",
      " |-- home_club_name: string (nullable = true)\n",
      " |-- away_club_name: string (nullable = true)\n",
      " |-- aggregate: timestamp (nullable = true)\n",
      " |-- competition_type: string (nullable = true)\n",
      "\n"
     ]
    }
   ],
   "source": [
    "games.printSchema()"
   ]
  },
  {
   "cell_type": "code",
   "execution_count": 44,
   "id": "2e8606c2-86cd-4fc5-a4c1-f9f0cccce9fc",
   "metadata": {},
   "outputs": [],
   "source": [
    "# If we want to find the number of clubs in each season we need a second subquery to filter \n",
    "query = '''\n",
    "        SELECT DISTINCT country_name AS Country, name AS LeagueName,\n",
    "        (SELECT COUNT(*)\n",
    "         FROM Clubs\n",
    "         WHERE (Clubs.domestic_competition_id = Competitions.competition_id \n",
    "         AND Clubs.name in \n",
    "         (SELECT DISTINCT(home_club_name) as Club \n",
    "          FROM Games\n",
    "          WHERE season = {year} AND Games.competition_type = 'domestic_league'))) AS ClubsCount\n",
    "        FROM Competitions\n",
    "        WHERE Competitions.type = 'domestic_league'\n",
    "        '''\n",
    "\n",
    "df = spark.sql(query, year=2019)"
   ]
  },
  {
   "cell_type": "code",
   "execution_count": 45,
   "id": "d359d2c3-dc02-4487-848f-440402986778",
   "metadata": {},
   "outputs": [
    {
     "name": "stderr",
     "output_type": "stream",
     "text": [
      "                                                                                \r"
     ]
    },
    {
     "name": "stdout",
     "output_type": "stream",
     "text": [
      "+-----------+--------------------+----------+\n",
      "|    Country|          LeagueName|ClubsCount|\n",
      "+-----------+--------------------+----------+\n",
      "|      Italy|             serie-a|        20|\n",
      "|    Belgium|  jupiler-pro-league|        16|\n",
      "|    Ukraine|        premier-liga|        12|\n",
      "|     France|             ligue-1|        20|\n",
      "|   Scotland|scottish-premiership|        12|\n",
      "|     Russia|        premier-liga|        16|\n",
      "|    England|      premier-league|        20|\n",
      "|    Germany|          bundesliga|        18|\n",
      "|     Turkey|           super-lig|        18|\n",
      "|    Denmark|         superligaen|        14|\n",
      "|     Greece|      super-league-1|        14|\n",
      "|Netherlands|          eredivisie|        18|\n",
      "|      Spain|              laliga|        20|\n",
      "|   Portugal|  liga-portugal-bwin|        18|\n",
      "+-----------+--------------------+----------+\n",
      "\n"
     ]
    }
   ],
   "source": [
    "df.show()"
   ]
  },
  {
   "cell_type": "code",
   "execution_count": 12,
   "id": "97b19b29-fe7a-4d70-9ab0-fb79b5a0a244",
   "metadata": {},
   "outputs": [],
   "source": [
    "# We can also query the number of clubs per season for each country\n",
    "query = '''\n",
    "        SELECT C.country_name AS country,\n",
    "               C.name AS leagueName,\n",
    "               G.season AS season,\n",
    "               COUNT(DISTINCT G.home_club_name) AS NoClubs\n",
    "        FROM Competitions as C\n",
    "        LEFT JOIN Games as G\n",
    "        ON C.competition_id = G.competition_id\n",
    "        WHERE C.type = 'domestic_league'\n",
    "        GROUP BY C.country_name, C.name, G.season\n",
    "        ORDER BY season, country;\n",
    "        '''\n",
    "\n",
    "df = spark.sql(query)"
   ]
  },
  {
   "cell_type": "code",
   "execution_count": 13,
   "id": "5550e733-e3a1-4caf-a757-068e1cbae875",
   "metadata": {},
   "outputs": [
    {
     "name": "stderr",
     "output_type": "stream",
     "text": [
      "[Stage 22:>                                                         (0 + 1) / 1]\r"
     ]
    },
    {
     "name": "stdout",
     "output_type": "stream",
     "text": [
      "+-----------+--------------------+------+-------+\n",
      "|    country|          leagueName|season|NoClubs|\n",
      "+-----------+--------------------+------+-------+\n",
      "|    Belgium|  jupiler-pro-league|  2012|     16|\n",
      "|    Denmark|         superligaen|  2012|     12|\n",
      "|    England|      premier-league|  2012|     20|\n",
      "|     France|             ligue-1|  2012|     20|\n",
      "|    Germany|          bundesliga|  2012|     18|\n",
      "|     Greece|      super-league-1|  2012|     16|\n",
      "|      Italy|             serie-a|  2012|     20|\n",
      "|Netherlands|          eredivisie|  2012|     18|\n",
      "|   Portugal|  liga-portugal-bwin|  2012|     16|\n",
      "|     Russia|        premier-liga|  2012|     16|\n",
      "|   Scotland|scottish-premiership|  2012|     12|\n",
      "|      Spain|              laliga|  2012|     20|\n",
      "|     Turkey|           super-lig|  2012|     18|\n",
      "|    Ukraine|        premier-liga|  2012|     16|\n",
      "|    Belgium|  jupiler-pro-league|  2013|     16|\n",
      "|    Denmark|         superligaen|  2013|     12|\n",
      "|    England|      premier-league|  2013|     20|\n",
      "|     France|             ligue-1|  2013|     20|\n",
      "|    Germany|          bundesliga|  2013|     18|\n",
      "|     Greece|      super-league-1|  2013|     18|\n",
      "+-----------+--------------------+------+-------+\n",
      "only showing top 20 rows\n",
      "\n"
     ]
    },
    {
     "name": "stderr",
     "output_type": "stream",
     "text": [
      "                                                                                \r"
     ]
    }
   ],
   "source": [
    "df.show()"
   ]
  },
  {
   "cell_type": "code",
   "execution_count": 14,
   "id": "e93ebfff-63fa-4603-b190-75ed4723b7ac",
   "metadata": {},
   "outputs": [
    {
     "name": "stderr",
     "output_type": "stream",
     "text": [
      "                                                                                \r"
     ]
    },
    {
     "data": {
      "text/html": [
       "<div>\n",
       "<style scoped>\n",
       "    .dataframe tbody tr th:only-of-type {\n",
       "        vertical-align: middle;\n",
       "    }\n",
       "\n",
       "    .dataframe tbody tr th {\n",
       "        vertical-align: top;\n",
       "    }\n",
       "\n",
       "    .dataframe thead th {\n",
       "        text-align: right;\n",
       "    }\n",
       "</style>\n",
       "<table border=\"1\" class=\"dataframe\">\n",
       "  <thead>\n",
       "    <tr style=\"text-align: right;\">\n",
       "      <th></th>\n",
       "      <th>country</th>\n",
       "      <th>leagueName</th>\n",
       "      <th>season</th>\n",
       "      <th>NoClubs</th>\n",
       "    </tr>\n",
       "  </thead>\n",
       "  <tbody>\n",
       "    <tr>\n",
       "      <th>0</th>\n",
       "      <td>Belgium</td>\n",
       "      <td>jupiler-pro-league</td>\n",
       "      <td>2012</td>\n",
       "      <td>16</td>\n",
       "    </tr>\n",
       "    <tr>\n",
       "      <th>1</th>\n",
       "      <td>Denmark</td>\n",
       "      <td>superligaen</td>\n",
       "      <td>2012</td>\n",
       "      <td>12</td>\n",
       "    </tr>\n",
       "    <tr>\n",
       "      <th>2</th>\n",
       "      <td>England</td>\n",
       "      <td>premier-league</td>\n",
       "      <td>2012</td>\n",
       "      <td>20</td>\n",
       "    </tr>\n",
       "    <tr>\n",
       "      <th>3</th>\n",
       "      <td>France</td>\n",
       "      <td>ligue-1</td>\n",
       "      <td>2012</td>\n",
       "      <td>20</td>\n",
       "    </tr>\n",
       "    <tr>\n",
       "      <th>4</th>\n",
       "      <td>Germany</td>\n",
       "      <td>bundesliga</td>\n",
       "      <td>2012</td>\n",
       "      <td>18</td>\n",
       "    </tr>\n",
       "  </tbody>\n",
       "</table>\n",
       "</div>"
      ],
      "text/plain": [
       "   country          leagueName  season  NoClubs\n",
       "0  Belgium  jupiler-pro-league    2012       16\n",
       "1  Denmark         superligaen    2012       12\n",
       "2  England      premier-league    2012       20\n",
       "3   France             ligue-1    2012       20\n",
       "4  Germany          bundesliga    2012       18"
      ]
     },
     "execution_count": 14,
     "metadata": {},
     "output_type": "execute_result"
    }
   ],
   "source": [
    "pd_df = df.toPandas()\n",
    "pd_df.head()"
   ]
  },
  {
   "cell_type": "code",
   "execution_count": 29,
   "id": "08e8226a-3f1b-43c4-966f-fe39de6518cc",
   "metadata": {},
   "outputs": [
    {
     "data": {
      "text/plain": [
       "array([12, 12, 12, 12, 14, 14, 14, 14, 12, 12, 12])"
      ]
     },
     "execution_count": 29,
     "metadata": {},
     "output_type": "execute_result"
    }
   ],
   "source": [
    "pd_df[pd_df['country']=='Denmark']['NoClubs'].values"
   ]
  },
  {
   "cell_type": "code",
   "execution_count": 33,
   "id": "a231c494-556e-4931-abba-dd0183bfc38b",
   "metadata": {},
   "outputs": [
    {
     "data": {
      "image/png": "[encoded data removed]",
      "text/plain": [
       "<Figure size 864x432 with 1 Axes>"
      ]
     },
     "metadata": {
      "needs_background": "light"
     },
     "output_type": "display_data"
    }
   ],
   "source": [
    "fig, ax = plt.subplots(1,1, figsize=(12,6))\n",
    "\n",
    "countries = pd_df['country'].unique()\n",
    "seasons = pd_df['season'].unique()\n",
    "\n",
    "width =0.5\n",
    "bottom = np.zeros(len(seasons))\n",
    "\n",
    "for country in countries:\n",
    "    heights = pd_df[pd_df['country']==country]['NoClubs']\n",
    "    p = ax.bar(seasons, heights, width, bottom=bottom, label=country)\n",
    "    bottom += heights.values\n",
    "    #print(bottom)\n",
    "    \n",
    "ax.legend(loc=0, bbox_to_anchor=(1.0,1.0))\n",
    "\n",
    "plt.show()"
   ]
  },
  {
   "cell_type": "markdown",
   "id": "38f7f711-51e5-49fe-8b24-3d4c14c8d25f",
   "metadata": {},
   "source": [
    "There are a total of 14 football leagues in the database. Note that over the whole period (2012-2022) the clubs participating in the domestic tournament varies from year to year. Now, let's count the **number of goals** per season and per game for each year and country. "
   ]
  },
  {
   "cell_type": "code",
   "execution_count": 112,
   "id": "06097618-401a-4bb7-9c1c-a6f9ca2407a5",
   "metadata": {},
   "outputs": [],
   "source": [
    "# Here I use a subquery to count the number of total goals in each domestic competition\n",
    "query = '''\n",
    "        SELECT DISTINCT competition_id, country_name AS country, name AS leagueName,\n",
    "        (SELECT SUM(home_club_goals + away_club_goals)\n",
    "         FROM Games\n",
    "         WHERE Games.competition_id = Competitions.competition_id) AS totalGoals,\n",
    "        (SELECT ROUND(SUM(home_club_goals + away_club_goals) / (SELECT SUM(home_club_goals + away_club_goals)\n",
    "         FROM Games\n",
    "         WHERE Games.competition_type = 'domestic_league'), 3)\n",
    "         FROM Games\n",
    "         WHERE Games.competition_id = Competitions.competition_id) AS goalsFraction\n",
    "        FROM Competitions\n",
    "        WHERE Competitions.type = 'domestic_league'\n",
    "        ORDER BY totalGoals;\n",
    "        '''\n",
    "\n",
    "df = spark.sql(query)"
   ]
  },
  {
   "cell_type": "code",
   "execution_count": 113,
   "id": "69f41f86-bbea-4535-b30e-0b4a1c40b072",
   "metadata": {},
   "outputs": [
    {
     "name": "stdout",
     "output_type": "stream",
     "text": [
      "+--------------+-----------+--------------------+----------+------------+\n",
      "|competition_id|    country|          leagueName|totalGoals|goalFraction|\n",
      "+--------------+-----------+--------------------+----------+------------+\n",
      "|          UKR1|    Ukraine|        premier-liga|      5049|       0.042|\n",
      "|           DK1|    Denmark|         superligaen|      5216|       0.043|\n",
      "|           GR1|     Greece|      super-league-1|      5933|       0.049|\n",
      "|           SC1|   Scotland|scottish-premiership|      6164|       0.051|\n",
      "|           RU1|     Russia|        premier-liga|      6595|       0.055|\n",
      "|           PO1|   Portugal|  liga-portugal-bwin|      8033|       0.067|\n",
      "|           BE1|    Belgium|  jupiler-pro-league|      8138|       0.068|\n",
      "|           TR1|     Turkey|           super-lig|      9947|       0.083|\n",
      "|            L1|    Germany|          bundesliga|     10114|       0.084|\n",
      "|           NL1|Netherlands|          eredivisie|     10137|       0.084|\n",
      "|           FR1|     France|             ligue-1|     10683|       0.089|\n",
      "|           ES1|      Spain|              laliga|     10989|       0.092|\n",
      "|           GB1|    England|      premier-league|     11483|       0.096|\n",
      "|           IT1|      Italy|             serie-a|     11580|       0.096|\n",
      "+--------------+-----------+--------------------+----------+------------+\n",
      "\n"
     ]
    }
   ],
   "source": [
    "df.show()"
   ]
  },
  {
   "cell_type": "code",
   "execution_count": 274,
   "id": "c2ed9053-cd26-40ff-9713-92027ae2b3cb",
   "metadata": {},
   "outputs": [],
   "source": [
    "# We can also query the number of clubs per season for each country\n",
    "query = '''\n",
    "        SELECT c.competition_id,\n",
    "               c.country_name as country,\n",
    "               c.name as leagueName,\n",
    "               c2.season,\n",
    "               c2.totalGames,\n",
    "               c2.goals,\n",
    "               ROUND(c2.goals / c2.totalGames, 3) AS goalsPerGame,\n",
    "               ROUND(c2.goals / c3.goals, 3) AS goalsFraction\n",
    "        FROM Competitions AS c\n",
    "        LEFT JOIN (SELECT competition_id,\n",
    "            season,\n",
    "            SUM(home_club_goals + away_club_goals) AS goals,\n",
    "            COUNT(*) AS totalGames\n",
    "            FROM Games as g\n",
    "            WHERE g.competition_type = 'domestic_league'\n",
    "            GROUP BY g.competition_id, g.season) AS c2\n",
    "        on c.competition_id = c2.competition_id\n",
    "        LEFT JOIN (SELECT season,\n",
    "            SUM(home_club_goals + away_club_goals) AS goals\n",
    "            FROM Games as g\n",
    "            WHERE g.competition_type = 'domestic_league'\n",
    "            GROUP BY g.season) AS c3\n",
    "        on c2.season = c3.season \n",
    "        WHERE c.type = 'domestic_league'\n",
    "        ORDER BY season, country\n",
    "        '''\n",
    "\n",
    "df = spark.sql(query)"
   ]
  },
  {
   "cell_type": "code",
   "execution_count": 275,
   "id": "cbb75f83-773c-44ee-94da-1a8db3383eb4",
   "metadata": {},
   "outputs": [
    {
     "name": "stderr",
     "output_type": "stream",
     "text": [
      "                                                                                \r"
     ]
    },
    {
     "name": "stdout",
     "output_type": "stream",
     "text": [
      "+--------------+-----------+--------------------+------+----------+-----+------------+-------------+\n",
      "|competition_id|    country|          leagueName|season|totalGames|goals|goalsPerGame|goalsFraction|\n",
      "+--------------+-----------+--------------------+------+----------+-----+------------+-------------+\n",
      "|           BE1|    Belgium|  jupiler-pro-league|  2012|       240|  703|       2.929|        0.063|\n",
      "|           DK1|    Denmark|         superligaen|  2012|       197|  558|       2.832|         0.05|\n",
      "|           GB1|    England|      premier-league|  2012|       380| 1063|       2.797|        0.096|\n",
      "|           FR1|     France|             ligue-1|  2012|       380|  967|       2.545|        0.087|\n",
      "|            L1|    Germany|          bundesliga|  2012|       306|  898|       2.935|        0.081|\n",
      "|           GR1|     Greece|      super-league-1|  2012|       240|  512|       2.133|        0.046|\n",
      "|           IT1|      Italy|             serie-a|  2012|       380| 1003|       2.639|         0.09|\n",
      "|           NL1|Netherlands|          eredivisie|  2012|       306|  964|        3.15|        0.087|\n",
      "|           PO1|   Portugal|  liga-portugal-bwin|  2012|       240|  667|       2.779|         0.06|\n",
      "|           RU1|     Russia|        premier-liga|  2012|       240|  627|       2.613|        0.056|\n",
      "|           SC1|   Scotland|scottish-premiership|  2012|       228|  623|       2.732|        0.056|\n",
      "|           ES1|      Spain|              laliga|  2012|       380| 1091|       2.871|        0.098|\n",
      "|           TR1|     Turkey|           super-lig|  2012|       306|  817|        2.67|        0.073|\n",
      "|          UKR1|    Ukraine|        premier-liga|  2012|       240|  623|       2.596|        0.056|\n",
      "|           BE1|    Belgium|  jupiler-pro-league|  2013|       239|  642|       2.686|        0.057|\n",
      "|           DK1|    Denmark|         superligaen|  2013|       198|  543|       2.742|        0.049|\n",
      "|           GB1|    England|      premier-league|  2013|       380| 1052|       2.768|        0.094|\n",
      "|           FR1|     France|             ligue-1|  2013|       380|  931|        2.45|        0.083|\n",
      "|            L1|    Germany|          bundesliga|  2013|       306|  967|        3.16|        0.087|\n",
      "|           GR1|     Greece|      super-league-1|  2013|       306|  776|       2.536|        0.069|\n",
      "+--------------+-----------+--------------------+------+----------+-----+------------+-------------+\n",
      "only showing top 20 rows\n",
      "\n"
     ]
    }
   ],
   "source": [
    "df.show()"
   ]
  },
  {
   "cell_type": "code",
   "execution_count": 16,
   "id": "f1941aac-a463-4121-86cf-e0d1a85c2d72",
   "metadata": {},
   "outputs": [
    {
     "name": "stderr",
     "output_type": "stream",
     "text": [
      "                                                                                \r"
     ]
    },
    {
     "data": {
      "text/html": [
       "<div>\n",
       "<style scoped>\n",
       "    .dataframe tbody tr th:only-of-type {\n",
       "        vertical-align: middle;\n",
       "    }\n",
       "\n",
       "    .dataframe tbody tr th {\n",
       "        vertical-align: top;\n",
       "    }\n",
       "\n",
       "    .dataframe thead th {\n",
       "        text-align: right;\n",
       "    }\n",
       "</style>\n",
       "<table border=\"1\" class=\"dataframe\">\n",
       "  <thead>\n",
       "    <tr style=\"text-align: right;\">\n",
       "      <th></th>\n",
       "      <th>country</th>\n",
       "      <th>leagueName</th>\n",
       "      <th>season</th>\n",
       "      <th>totalGames</th>\n",
       "      <th>goals</th>\n",
       "      <th>goalsPerGame</th>\n",
       "      <th>goalsFraction</th>\n",
       "    </tr>\n",
       "  </thead>\n",
       "  <tbody>\n",
       "    <tr>\n",
       "      <th>0</th>\n",
       "      <td>Belgium</td>\n",
       "      <td>jupiler-pro-league</td>\n",
       "      <td>2012</td>\n",
       "      <td>240</td>\n",
       "      <td>703</td>\n",
       "      <td>2.929</td>\n",
       "      <td>0.063</td>\n",
       "    </tr>\n",
       "    <tr>\n",
       "      <th>1</th>\n",
       "      <td>Denmark</td>\n",
       "      <td>superligaen</td>\n",
       "      <td>2012</td>\n",
       "      <td>197</td>\n",
       "      <td>558</td>\n",
       "      <td>2.832</td>\n",
       "      <td>0.050</td>\n",
       "    </tr>\n",
       "    <tr>\n",
       "      <th>2</th>\n",
       "      <td>England</td>\n",
       "      <td>premier-league</td>\n",
       "      <td>2012</td>\n",
       "      <td>380</td>\n",
       "      <td>1063</td>\n",
       "      <td>2.797</td>\n",
       "      <td>0.096</td>\n",
       "    </tr>\n",
       "    <tr>\n",
       "      <th>3</th>\n",
       "      <td>France</td>\n",
       "      <td>ligue-1</td>\n",
       "      <td>2012</td>\n",
       "      <td>380</td>\n",
       "      <td>967</td>\n",
       "      <td>2.545</td>\n",
       "      <td>0.087</td>\n",
       "    </tr>\n",
       "    <tr>\n",
       "      <th>4</th>\n",
       "      <td>Germany</td>\n",
       "      <td>bundesliga</td>\n",
       "      <td>2012</td>\n",
       "      <td>306</td>\n",
       "      <td>898</td>\n",
       "      <td>2.935</td>\n",
       "      <td>0.081</td>\n",
       "    </tr>\n",
       "  </tbody>\n",
       "</table>\n",
       "</div>"
      ],
      "text/plain": [
       "   country          leagueName  season  totalGames  goals  goalsPerGame  \\\n",
       "0  Belgium  jupiler-pro-league    2012         240    703         2.929   \n",
       "1  Denmark         superligaen    2012         197    558         2.832   \n",
       "2  England      premier-league    2012         380   1063         2.797   \n",
       "3   France             ligue-1    2012         380    967         2.545   \n",
       "4  Germany          bundesliga    2012         306    898         2.935   \n",
       "\n",
       "   goalsFraction  \n",
       "0          0.063  \n",
       "1          0.050  \n",
       "2          0.096  \n",
       "3          0.087  \n",
       "4          0.081  "
      ]
     },
     "execution_count": 16,
     "metadata": {},
     "output_type": "execute_result"
    }
   ],
   "source": [
    "pd_df = df.toPandas()\n",
    "pd_df.head()"
   ]
  },
  {
   "cell_type": "code",
   "execution_count": 46,
   "id": "5749d0b2-dcf5-4fe5-89b1-1b9ba9a0090c",
   "metadata": {},
   "outputs": [
    {
     "data": {
      "image/png": "[encoded data removed]",
      "text/plain": [
       "<Figure size 864x576 with 1 Axes>"
      ]
     },
     "metadata": {
      "needs_background": "light"
     },
     "output_type": "display_data"
    }
   ],
   "source": [
    "fig, ax = plt.subplots(1,1, figsize=(12,8))\n",
    "\n",
    "markers = ['o', 'v', '^', '<', '>', 's', 'p', 'P', '*', '+', 'x', 'X', 'd', 'D']\n",
    "g= sns.lineplot(data=pd_df, x='season', y='goals', hue='country', style='country', markers=True, \n",
    "             dashes=False, markersize=10, ax=ax)\n",
    "\n",
    "sns.move_legend(g, \"upper right\", bbox_to_anchor=(1.15, 1), ncol=1, frameon=False)"
   ]
  },
  {
   "cell_type": "markdown",
   "id": "b0ebc9f0-0239-40ff-8317-df81a52b54a7",
   "metadata": {},
   "source": [
    "We can observe that the total number of goals scored each season varies greatly from year to year. Premier league seems to be the most consistent in this regard. We now want to explore competitivity of the league which can be measured using the **difference in points from first to last** and the number of **different champions** over the whole period.\n",
    "\n",
    "These questions are more difficult since there is no explicit information about the number of points at the end of the season. The first team in the table and champion of the tournament has the largest number of points while the last team has the least number of points at the final matchday."
   ]
  },
  {
   "cell_type": "code",
   "execution_count": 12,
   "id": "7a15b94c-0334-46ee-8631-3be79d42ca9f",
   "metadata": {},
   "outputs": [
    {
     "name": "stdout",
     "output_type": "stream",
     "text": [
      "root\n",
      " |-- game_id: integer (nullable = true)\n",
      " |-- club_id: integer (nullable = true)\n",
      " |-- own_goals: integer (nullable = true)\n",
      " |-- own_position: integer (nullable = true)\n",
      " |-- own_manager_name: string (nullable = true)\n",
      " |-- opponent_id: integer (nullable = true)\n",
      " |-- opponent_goals: integer (nullable = true)\n",
      " |-- opponent_position: integer (nullable = true)\n",
      " |-- opponent_manager_name: string (nullable = true)\n",
      " |-- hosting: string (nullable = true)\n",
      " |-- is_win: integer (nullable = true)\n",
      "\n"
     ]
    }
   ],
   "source": [
    "club_games.printSchema()"
   ]
  },
  {
   "cell_type": "code",
   "execution_count": 203,
   "id": "e5f54d8f-12f9-4ead-a544-2b444cccbf8a",
   "metadata": {},
   "outputs": [],
   "source": [
    "# This query categorizes each match as Win, loss or draw\n",
    "# It also assigns points according to the match result\n",
    "query = '''\n",
    "        SELECT Cb.game_id,\n",
    "               Cb.club_id,\n",
    "               G.competition_id,\n",
    "               G.season as season,\n",
    "               (CASE WHEN own_goals > opponent_goals THEN 'Win'\n",
    "                     WHEN own_goals < opponent_goals THEN 'Loss'\n",
    "                     ELSE 'Draw' END) as result,\n",
    "               (CASE WHEN own_goals > opponent_goals THEN 3\n",
    "                     WHEN own_goals < opponent_goals THEN 0\n",
    "                     ELSE 1 END) as points\n",
    "        FROM Club_games as Cb\n",
    "        LEFT JOIN Games as G\n",
    "        ON Cb.game_id = G.game_id\n",
    "        WHERE G.competition_type = 'domestic_league'\n",
    "        LIMIT 10;\n",
    "        '''\n",
    "\n",
    "df = spark.sql(query)"
   ]
  },
  {
   "cell_type": "code",
   "execution_count": 204,
   "id": "63ae12ed-4b9b-4bb8-a385-c7d3f365af3f",
   "metadata": {},
   "outputs": [
    {
     "name": "stderr",
     "output_type": "stream",
     "text": [
      "                                                                                \r"
     ]
    },
    {
     "name": "stdout",
     "output_type": "stream",
     "text": [
      "+-------+-------+--------------+------+------+------+\n",
      "|game_id|club_id|competition_id|season|result|points|\n",
      "+-------+-------+--------------+------+------+------+\n",
      "|2222539|     39|            L1|  2012|  Draw|     1|\n",
      "|2222539|     60|            L1|  2012|  Draw|     1|\n",
      "|2222541|      4|            L1|  2012|   Win|     3|\n",
      "|2222541|     41|            L1|  2012|  Loss|     0|\n",
      "|2222542|     15|            L1|  2012|  Loss|     0|\n",
      "|2222542|     24|            L1|  2012|   Win|     3|\n",
      "|2222595|   4128|           RU1|  2012|  Loss|     0|\n",
      "|2222595|   2700|           RU1|  2012|   Win|     3|\n",
      "|2222636|   2696|           RU1|  2012|   Win|     3|\n",
      "|2222636|   1083|           RU1|  2012|  Loss|     0|\n",
      "+-------+-------+--------------+------+------+------+\n",
      "\n"
     ]
    }
   ],
   "source": [
    "df.show()"
   ]
  },
  {
   "cell_type": "code",
   "execution_count": 34,
   "id": "d447b973-3689-4945-9da6-5eea005c47d8",
   "metadata": {},
   "outputs": [],
   "source": [
    "query = '''\n",
    "        WITH S AS (\n",
    "        SELECT G.competition_id AS competition_id,\n",
    "               Cb.club_id AS first_id,\n",
    "               G.season AS season,\n",
    "               SUM(CASE WHEN own_goals > opponent_goals THEN 3\n",
    "                     WHEN own_goals < opponent_goals THEN 0\n",
    "                     ELSE 1 END) AS points,\n",
    "               MAX(SUM(CASE WHEN own_goals > opponent_goals THEN 3\n",
    "                     WHEN own_goals < opponent_goals THEN 0\n",
    "                     ELSE 1 END)) OVER(PARTITION BY competition_id, season) AS max_points,\n",
    "               MIN(SUM(CASE WHEN own_goals > opponent_goals THEN 3\n",
    "                     WHEN own_goals < opponent_goals THEN 0\n",
    "                     ELSE 1 END)) OVER(PARTITION BY competition_id, season) AS min_points,\n",
    "               MAX(SUM(CASE WHEN own_goals > opponent_goals THEN 3\n",
    "                     WHEN own_goals < opponent_goals THEN 0\n",
    "                     ELSE 1 END)) OVER(PARTITION BY competition_id, season) - MIN(SUM(CASE WHEN own_goals > opponent_goals THEN 3\n",
    "                     WHEN own_goals < opponent_goals THEN 0\n",
    "                     ELSE 1 END)) OVER(PARTITION BY competition_id, season) AS point_diff\n",
    "        FROM Club_games as Cb\n",
    "        LEFT JOIN Games as G\n",
    "            ON Cb.game_id = G.game_id\n",
    "        WHERE G.competition_type = 'domestic_league'\n",
    "        GROUP BY G.competition_id, Cb.club_id, G.season\n",
    "        ORDER BY season)\n",
    "        \n",
    "        SELECT S.competition_id,\n",
    "               C.country_name as country,\n",
    "               C.name as leagueName,\n",
    "               S.season,\n",
    "               first_id,\n",
    "               point_diff\n",
    "        FROM S\n",
    "        LEFT JOIN Competitions as C\n",
    "            ON S.competition_id = C.competition_id\n",
    "        WHERE S.points = max_points\n",
    "        ORDER BY S.season, S.competition_id;\n",
    "        '''\n",
    "\n",
    "df = spark.sql(query)"
   ]
  },
  {
   "cell_type": "code",
   "execution_count": 35,
   "id": "b96f8c19-197a-45ce-8e04-adb4662aebaa",
   "metadata": {},
   "outputs": [
    {
     "name": "stderr",
     "output_type": "stream",
     "text": [
      "[Stage 44:===========================================>              (3 + 1) / 4]\r"
     ]
    },
    {
     "name": "stdout",
     "output_type": "stream",
     "text": [
      "+--------------+-----------+--------------------+------+--------+----------+\n",
      "|competition_id|    country|          leagueName|season|first_id|point_diff|\n",
      "+--------------+-----------+--------------------+------+--------+----------+\n",
      "|           BE1|    Belgium|  jupiler-pro-league|  2012|      58|        53|\n",
      "|           DK1|    Denmark|         superligaen|  2012|     190|        34|\n",
      "|           ES1|      Spain|              laliga|  2012|     131|        66|\n",
      "|           FR1|     France|             ligue-1|  2012|     583|        54|\n",
      "|           GB1|    England|      premier-league|  2012|     985|        64|\n",
      "|           GR1|     Greece|      super-league-1|  2012|     683|        57|\n",
      "|           IT1|      Italy|             serie-a|  2012|     506|        65|\n",
      "|            L1|    Germany|          bundesliga|  2012|      27|        70|\n",
      "|           NL1|Netherlands|          eredivisie|  2012|     610|        53|\n",
      "|           PO1|   Portugal|  liga-portugal-bwin|  2012|     720|        55|\n",
      "|           RU1|     Russia|        premier-liga|  2012|    2410|        45|\n",
      "|           SC1|   Scotland|scottish-premiership|  2012|     371|        49|\n",
      "|           TR1|     Turkey|           super-lig|  2012|     141|        49|\n",
      "|          UKR1|    Ukraine|        premier-liga|  2012|     660|        68|\n",
      "|           BE1|    Belgium|  jupiler-pro-league|  2013|    3057|        45|\n",
      "|           DK1|    Denmark|         superligaen|  2013|    1053|        34|\n",
      "|           ES1|      Spain|              laliga|  2013|      13|        65|\n",
      "|           FR1|     France|             ligue-1|  2013|     583|        66|\n",
      "|           GB1|    England|      premier-league|  2013|     281|        56|\n",
      "|           GR1|     Greece|      super-league-1|  2013|     683|        64|\n",
      "+--------------+-----------+--------------------+------+--------+----------+\n",
      "only showing top 20 rows\n",
      "\n"
     ]
    },
    {
     "name": "stderr",
     "output_type": "stream",
     "text": [
      "                                                                                \r"
     ]
    }
   ],
   "source": [
    "df.show()"
   ]
  },
  {
   "cell_type": "code",
   "execution_count": 221,
   "id": "b3d0c88f-e80a-4689-89d4-46040aaea320",
   "metadata": {},
   "outputs": [
    {
     "name": "stderr",
     "output_type": "stream",
     "text": [
      "                                                                                \r"
     ]
    }
   ],
   "source": [
    "pd_df = df.toPandas()"
   ]
  },
  {
   "cell_type": "code",
   "execution_count": 222,
   "id": "f2933294-cef0-422d-acd7-426a90f21d27",
   "metadata": {},
   "outputs": [
    {
     "data": {
      "text/html": [
       "<div>\n",
       "<style scoped>\n",
       "    .dataframe tbody tr th:only-of-type {\n",
       "        vertical-align: middle;\n",
       "    }\n",
       "\n",
       "    .dataframe tbody tr th {\n",
       "        vertical-align: top;\n",
       "    }\n",
       "\n",
       "    .dataframe thead th {\n",
       "        text-align: right;\n",
       "    }\n",
       "</style>\n",
       "<table border=\"1\" class=\"dataframe\">\n",
       "  <thead>\n",
       "    <tr style=\"text-align: right;\">\n",
       "      <th></th>\n",
       "      <th>country</th>\n",
       "      <th>leagueName</th>\n",
       "      <th>season</th>\n",
       "      <th>point_diff</th>\n",
       "    </tr>\n",
       "  </thead>\n",
       "  <tbody>\n",
       "    <tr>\n",
       "      <th>4</th>\n",
       "      <td>Germany</td>\n",
       "      <td>bundesliga</td>\n",
       "      <td>2012</td>\n",
       "      <td>70</td>\n",
       "    </tr>\n",
       "    <tr>\n",
       "      <th>18</th>\n",
       "      <td>Germany</td>\n",
       "      <td>bundesliga</td>\n",
       "      <td>2013</td>\n",
       "      <td>65</td>\n",
       "    </tr>\n",
       "    <tr>\n",
       "      <th>32</th>\n",
       "      <td>Germany</td>\n",
       "      <td>bundesliga</td>\n",
       "      <td>2014</td>\n",
       "      <td>48</td>\n",
       "    </tr>\n",
       "    <tr>\n",
       "      <th>46</th>\n",
       "      <td>Germany</td>\n",
       "      <td>bundesliga</td>\n",
       "      <td>2015</td>\n",
       "      <td>63</td>\n",
       "    </tr>\n",
       "    <tr>\n",
       "      <th>60</th>\n",
       "      <td>Germany</td>\n",
       "      <td>bundesliga</td>\n",
       "      <td>2016</td>\n",
       "      <td>57</td>\n",
       "    </tr>\n",
       "    <tr>\n",
       "      <th>74</th>\n",
       "      <td>Germany</td>\n",
       "      <td>bundesliga</td>\n",
       "      <td>2017</td>\n",
       "      <td>62</td>\n",
       "    </tr>\n",
       "    <tr>\n",
       "      <th>88</th>\n",
       "      <td>Germany</td>\n",
       "      <td>bundesliga</td>\n",
       "      <td>2018</td>\n",
       "      <td>59</td>\n",
       "    </tr>\n",
       "    <tr>\n",
       "      <th>102</th>\n",
       "      <td>Germany</td>\n",
       "      <td>bundesliga</td>\n",
       "      <td>2019</td>\n",
       "      <td>62</td>\n",
       "    </tr>\n",
       "    <tr>\n",
       "      <th>116</th>\n",
       "      <td>Germany</td>\n",
       "      <td>bundesliga</td>\n",
       "      <td>2020</td>\n",
       "      <td>62</td>\n",
       "    </tr>\n",
       "    <tr>\n",
       "      <th>130</th>\n",
       "      <td>Germany</td>\n",
       "      <td>bundesliga</td>\n",
       "      <td>2021</td>\n",
       "      <td>59</td>\n",
       "    </tr>\n",
       "    <tr>\n",
       "      <th>144</th>\n",
       "      <td>Germany</td>\n",
       "      <td>bundesliga</td>\n",
       "      <td>2022</td>\n",
       "      <td>42</td>\n",
       "    </tr>\n",
       "  </tbody>\n",
       "</table>\n",
       "</div>"
      ],
      "text/plain": [
       "     country  leagueName  season  point_diff\n",
       "4    Germany  bundesliga    2012          70\n",
       "18   Germany  bundesliga    2013          65\n",
       "32   Germany  bundesliga    2014          48\n",
       "46   Germany  bundesliga    2015          63\n",
       "60   Germany  bundesliga    2016          57\n",
       "74   Germany  bundesliga    2017          62\n",
       "88   Germany  bundesliga    2018          59\n",
       "102  Germany  bundesliga    2019          62\n",
       "116  Germany  bundesliga    2020          62\n",
       "130  Germany  bundesliga    2021          59\n",
       "144  Germany  bundesliga    2022          42"
      ]
     },
     "execution_count": 222,
     "metadata": {},
     "output_type": "execute_result"
    }
   ],
   "source": [
    "pd_df[pd_df['country']=='Germany']"
   ]
  },
  {
   "cell_type": "markdown",
   "id": "ef1a1e7a-3420-4f09-9317-4f503e958b57",
   "metadata": {},
   "source": [
    "\n",
    "It's time to analyze international competitions. In this case I will be only focusing on UEFA Champions league and UEFA Europa League.The questions we want to answer are: For each, country what is the number of victories at international competitions for each season? and what is the number of clubs playing international competitions each season?."
   ]
  },
  {
   "cell_type": "code",
   "execution_count": 38,
   "id": "d77f454d-fc08-4bf8-98cb-5e5b83366517",
   "metadata": {},
   "outputs": [],
   "source": [
    "# First, let's investigate the different rounds at international competitions\n",
    "query = '''\n",
    "        SELECT DISTINCT round\n",
    "        FROM Games as G\n",
    "        WHERE (G.competition_id = 'CL' OR G.competition_id = 'EL');\n",
    "        '''\n",
    "\n",
    "df = spark.sql(query)"
   ]
  },
  {
   "cell_type": "code",
   "execution_count": 40,
   "id": "72dee3f4-2482-4156-a4cc-b12a8a76c911",
   "metadata": {},
   "outputs": [
    {
     "name": "stderr",
     "output_type": "stream",
     "text": [
      "[Stage 56:==============>                                           (1 + 3) / 4]\r"
     ]
    },
    {
     "name": "stdout",
     "output_type": "stream",
     "text": [
      "+--------------------+\n",
      "|               round|\n",
      "+--------------------+\n",
      "|               Final|\n",
      "|             Group H|\n",
      "| Semi-Finals 1st Leg|\n",
      "|             group L|\n",
      "|             group I|\n",
      "|     last 16 1st leg|\n",
      "|Qualifying Round ...|\n",
      "|             Group A|\n",
      "|     last 16 2nd leg|\n",
      "|             Group E|\n",
      "| Semi-Finals 2nd Leg|\n",
      "|         Round of 16|\n",
      "|      Quarter-Finals|\n",
      "|intermediate stag...|\n",
      "|Quarter-Finals 2n...|\n",
      "|             group K|\n",
      "|intermediate stag...|\n",
      "|Qualifying Round ...|\n",
      "|Second Round 2nd leg|\n",
      "|             Group D|\n",
      "|             Group G|\n",
      "|             Group F|\n",
      "|Quarter-Finals 1s...|\n",
      "|             Group B|\n",
      "|             group J|\n",
      "|Second Round 1st leg|\n",
      "|             Group C|\n",
      "|         Semi-Finals|\n",
      "+--------------------+\n",
      "\n"
     ]
    },
    {
     "name": "stderr",
     "output_type": "stream",
     "text": [
      "                                                                                \r"
     ]
    }
   ],
   "source": [
    "df.show(n=32)"
   ]
  },
  {
   "cell_type": "code",
   "execution_count": 105,
   "id": "35803c4e-70f3-43ce-a935-e9e6cfcf9aa0",
   "metadata": {},
   "outputs": [],
   "source": [
    "query = '''\n",
    "        SELECT DISTINCT round\n",
    "        FROM Games as G\n",
    "        WHERE (G.competition_id = 'CL' OR G.competition_id = 'EL') AND (LOWER(G.round) NOT LIKE 'group%')\n",
    "        AND (LOWER(G.round) NOT LIKE 'qualifying%')\n",
    "        AND (LOWER(G.round) NOT LIKE 'intermediate%')\n",
    "        AND (LOWER(G.round) NOT LIKE 'second round%');\n",
    "        '''\n",
    "\n",
    "df = spark.sql(query)"
   ]
  },
  {
   "cell_type": "code",
   "execution_count": null,
   "id": "94b8c546-1ac4-47f7-af2c-6c97057e1a83",
   "metadata": {},
   "outputs": [],
   "source": [
    "df.show(n=32)"
   ]
  },
  {
   "cell_type": "markdown",
   "id": "9fc68c12-4599-4818-8a47-c2ea83caaafa",
   "metadata": {},
   "source": [
    "In the following query we filter for clubs in the 14 domestic leagues that are available in the Competitions table. "
   ]
  },
  {
   "cell_type": "code",
   "execution_count": 64,
   "id": "572d8f39-85d1-4dd7-becf-e99c271aaf50",
   "metadata": {},
   "outputs": [],
   "source": [
    "query = '''\n",
    "        WITH international AS (\n",
    "        SELECT\n",
    "            C.competition_id AS competition_id,\n",
    "            C.country_name AS country,\n",
    "            C.name AS domestic_league,\n",
    "            G.season AS season,\n",
    "            Cb.club_id,\n",
    "            COUNT(*) AS total_matches,\n",
    "            SUM(CASE WHEN LOWER(G.round) NOT LIKE 'group%' THEN 1\n",
    "                       ELSE 0 END) AS playoffs_matches,\n",
    "            SUM(CASE WHEN own_goals > opponent_goals THEN 1\n",
    "                ELSE 0 END) AS total_wins\n",
    "        FROM Club_games AS Cb\n",
    "        LEFT JOIN Games as G\n",
    "            ON Cb.game_id = G.game_id\n",
    "        LEFT JOIN Clubs as Cl\n",
    "            ON Cb.club_id = Cl.club_id\n",
    "        LEFT JOIN Competitions as C\n",
    "            ON CL.domestic_competition_id = C.competition_id\n",
    "        WHERE (G.competition_id = 'CL'  OR G.competition_id = 'EL')\n",
    "            AND (LOWER(G.round) NOT LIKE 'qualifying%')\n",
    "            AND (LOWER(G.round) NOT LIKE 'intermediate%')\n",
    "            AND (LOWER(G.round) NOT LIKE 'second round%')\n",
    "            AND (Cl.domestic_competition_id IS NOT NULL)\n",
    "        GROUP BY C.competition_id, C.country_name, C.name, G.season, Cb.club_id\n",
    "        )\n",
    "        SELECT\n",
    "            competition_id,\n",
    "            country,\n",
    "            domestic_league,\n",
    "            season,\n",
    "            SUM(total_matches) AS total_matches,\n",
    "            SUM(playoffs_matches) AS playoffs_matches,\n",
    "            SUM(total_wins) AS total_wins\n",
    "        FROM international\n",
    "        GROUP BY competition_id, country, domestic_league, season\n",
    "        ORDER BY season, country;\n",
    "        '''\n",
    "\n",
    "df = spark.sql(query)"
   ]
  },
  {
   "cell_type": "code",
   "execution_count": 65,
   "id": "f32bbe0d-f1c1-4215-96bc-bd68f0719ba0",
   "metadata": {},
   "outputs": [
    {
     "name": "stderr",
     "output_type": "stream",
     "text": [
      "[Stage 104:============================>                            (2 + 2) / 4]\r"
     ]
    },
    {
     "name": "stdout",
     "output_type": "stream",
     "text": [
      "+--------------+-----------+--------------------+------+-------------+----------------+----------+\n",
      "|competition_id|    country|     domestic_league|season|total_matches|playoffs_matches|total_wins|\n",
      "+--------------+-----------+--------------------+------+-------------+----------------+----------+\n",
      "|           BE1|    Belgium|  jupiler-pro-league|  2012|           18|               0|         5|\n",
      "|           DK1|    Denmark|         superligaen|  2012|           12|               0|         2|\n",
      "|           GB1|    England|      premier-league|  2012|           61|              19|        25|\n",
      "|           FR1|     France|             ligue-1|  2012|           42|               6|        17|\n",
      "|            L1|    Germany|          bundesliga|  2012|           60|              18|        32|\n",
      "|           GR1|     Greece|      super-league-1|  2012|           12|               0|         4|\n",
      "|           IT1|      Italy|             serie-a|  2012|           48|              12|        21|\n",
      "|           NL1|Netherlands|          eredivisie|  2012|           18|               0|         3|\n",
      "|           PO1|   Portugal|  liga-portugal-bwin|  2012|           45|               9|        15|\n",
      "|           RU1|     Russia|        premier-liga|  2012|           32|               8|        13|\n",
      "|           SC1|   Scotland|scottish-premiership|  2012|            8|               2|         3|\n",
      "|           ES1|      Spain|              laliga|  2012|           62|              20|        27|\n",
      "|           TR1|     Turkey|           super-lig|  2012|           22|              10|        12|\n",
      "|          UKR1|    Ukraine|        premier-liga|  2012|           26|               2|        13|\n",
      "|           BE1|    Belgium|  jupiler-pro-league|  2013|           24|               0|         6|\n",
      "|           DK1|    Denmark|         superligaen|  2013|           12|               0|         5|\n",
      "|           GB1|    England|      premier-league|  2013|           58|              16|        29|\n",
      "|           FR1|     France|             ligue-1|  2013|           32|               8|        12|\n",
      "|            L1|    Germany|          bundesliga|  2013|           50|              14|        25|\n",
      "|           GR1|     Greece|      super-league-1|  2013|           14|               2|         7|\n",
      "+--------------+-----------+--------------------+------+-------------+----------------+----------+\n",
      "only showing top 20 rows\n",
      "\n"
     ]
    },
    {
     "name": "stderr",
     "output_type": "stream",
     "text": [
      "                                                                                \r"
     ]
    }
   ],
   "source": [
    "df.show()"
   ]
  },
  {
   "cell_type": "markdown",
   "id": "3f5927bc-29fc-4391-bb3f-ad24fd5b4b11",
   "metadata": {},
   "source": [
    "Finally I will create a single dataframe containing all the information calculated in the previous queries. To do this I will create temporal tables and join them to construct the final table."
   ]
  },
  {
   "cell_type": "code",
   "execution_count": 12,
   "id": "eb4287de-63d3-4ee3-9088-76b92d858d18",
   "metadata": {},
   "outputs": [],
   "source": [
    "query = '''\n",
    "        CREATE TEMP VIEW Domestic_goals AS\n",
    "        SELECT c.competition_id,\n",
    "               c.country_name as country,\n",
    "               c.name as leagueName,\n",
    "               c2.season,\n",
    "               c2.totalGames,\n",
    "               c2.goals,\n",
    "               ROUND(c2.goals / c2.totalGames, 3) AS goalsPerGame,\n",
    "               ROUND(c2.goals / c3.goals, 3) AS goalsFraction\n",
    "        FROM Competitions AS c\n",
    "        LEFT JOIN (SELECT competition_id,\n",
    "            season,\n",
    "            SUM(home_club_goals + away_club_goals) AS goals,\n",
    "            COUNT(*) AS totalGames\n",
    "            FROM Games as g\n",
    "            WHERE g.competition_type = 'domestic_league'\n",
    "            GROUP BY g.competition_id, g.season) AS c2\n",
    "        on c.competition_id = c2.competition_id\n",
    "        LEFT JOIN (SELECT season,\n",
    "            SUM(home_club_goals + away_club_goals) AS goals\n",
    "            FROM Games as g\n",
    "            WHERE g.competition_type = 'domestic_league'\n",
    "            GROUP BY g.season) AS c3\n",
    "        on c2.season = c3.season \n",
    "        WHERE c.type = 'domestic_league'\n",
    "        ORDER BY season, country;\n",
    "        '''\n",
    "\n",
    "df = spark.sql(query)"
   ]
  },
  {
   "cell_type": "code",
   "execution_count": 13,
   "id": "fb5bdc01-ada5-4162-95f7-98bd90a8af11",
   "metadata": {},
   "outputs": [],
   "source": [
    "query = '''\n",
    "        CREATE TEMP VIEW Performance AS\n",
    "        WITH S AS (\n",
    "        SELECT G.competition_id AS competition_id,\n",
    "               Cb.club_id AS first_id,\n",
    "               G.season AS season,\n",
    "               SUM(CASE WHEN own_goals > opponent_goals THEN 3\n",
    "                     WHEN own_goals < opponent_goals THEN 0\n",
    "                     ELSE 1 END) AS points,\n",
    "               MAX(SUM(CASE WHEN own_goals > opponent_goals THEN 3\n",
    "                     WHEN own_goals < opponent_goals THEN 0\n",
    "                     ELSE 1 END)) OVER(PARTITION BY competition_id, season) AS max_points,\n",
    "               MIN(SUM(CASE WHEN own_goals > opponent_goals THEN 3\n",
    "                     WHEN own_goals < opponent_goals THEN 0\n",
    "                     ELSE 1 END)) OVER(PARTITION BY competition_id, season) AS min_points,\n",
    "               MAX(SUM(CASE WHEN own_goals > opponent_goals THEN 3\n",
    "                     WHEN own_goals < opponent_goals THEN 0\n",
    "                     ELSE 1 END)) OVER(PARTITION BY competition_id, season) - MIN(SUM(CASE WHEN own_goals > opponent_goals THEN 3\n",
    "                     WHEN own_goals < opponent_goals THEN 0\n",
    "                     ELSE 1 END)) OVER(PARTITION BY competition_id, season) AS point_diff\n",
    "        FROM Club_games as Cb\n",
    "        LEFT JOIN Games as G\n",
    "            ON Cb.game_id = G.game_id\n",
    "        WHERE G.competition_type = 'domestic_league'\n",
    "        GROUP BY G.competition_id, Cb.club_id, G.season\n",
    "        ORDER BY season)\n",
    "        \n",
    "        SELECT S.competition_id,\n",
    "               C.country_name as country,\n",
    "               C.name as leagueName,\n",
    "               S.season,\n",
    "               first_id,\n",
    "               point_diff\n",
    "        FROM S\n",
    "        LEFT JOIN Competitions as C\n",
    "            ON S.competition_id = C.competition_id\n",
    "        WHERE S.points = max_points\n",
    "        ORDER BY S.season, S.competition_id;\n",
    "        '''\n",
    "\n",
    "df = spark.sql(query)"
   ]
  },
  {
   "cell_type": "code",
   "execution_count": 23,
   "id": "d057802f-2e06-4132-a194-a02ccc72f07b",
   "metadata": {},
   "outputs": [],
   "source": [
    "query = '''\n",
    "        DROP TABLE International;\n",
    "        '''\n",
    "df = spark.sql(query)"
   ]
  },
  {
   "cell_type": "code",
   "execution_count": 24,
   "id": "0d611d4f-1f3f-4461-b956-bdc64f1e3e57",
   "metadata": {},
   "outputs": [],
   "source": [
    "query = '''\n",
    "        CREATE TEMP VIEW International AS \n",
    "        WITH international AS (\n",
    "        SELECT\n",
    "            C.competition_id AS competition_id,\n",
    "            C.country_name AS country,\n",
    "            C.name AS domestic_league,\n",
    "            G.season AS season,\n",
    "            Cb.club_id,\n",
    "            COUNT(*) AS total_matches,\n",
    "            SUM(CASE WHEN LOWER(G.round) NOT LIKE 'group%' THEN 1\n",
    "                       ELSE 0 END) AS playoffs_matches,\n",
    "            SUM(CASE WHEN own_goals > opponent_goals THEN 1\n",
    "                ELSE 0 END) AS total_wins\n",
    "        FROM Club_games AS Cb\n",
    "        LEFT JOIN Games as G\n",
    "            ON Cb.game_id = G.game_id\n",
    "        LEFT JOIN Clubs as Cl\n",
    "            ON Cb.club_id = Cl.club_id\n",
    "        LEFT JOIN Competitions as C\n",
    "            ON CL.domestic_competition_id = C.competition_id\n",
    "        WHERE (G.competition_id = 'CL'  OR G.competition_id = 'EL')\n",
    "            AND (LOWER(G.round) NOT LIKE 'qualifying%')\n",
    "            AND (LOWER(G.round) NOT LIKE 'intermediate%')\n",
    "            AND (LOWER(G.round) NOT LIKE 'second round%')\n",
    "            AND (Cl.domestic_competition_id IS NOT NULL)\n",
    "        GROUP BY C.competition_id, C.country_name, C.name, G.season, Cb.club_id\n",
    "        )\n",
    "        SELECT\n",
    "            competition_id,\n",
    "            country,\n",
    "            domestic_league AS leagueName,\n",
    "            season,\n",
    "            SUM(total_matches) AS total_matches,\n",
    "            SUM(playoffs_matches) AS playoffs_matches,\n",
    "            SUM(total_wins) AS total_wins\n",
    "        FROM international\n",
    "        GROUP BY competition_id, country, domestic_league, season\n",
    "        ORDER BY season, country;\n",
    "        '''\n",
    "\n",
    "df = spark.sql(query)"
   ]
  },
  {
   "cell_type": "code",
   "execution_count": 25,
   "id": "ab00b2f3-dbf0-447c-825f-62bfa5bf756f",
   "metadata": {},
   "outputs": [
    {
     "data": {
      "text/plain": [
       "[Table(name='Appearances', catalog=None, namespace=[], description=None, tableType='TEMPORARY', isTemporary=True),\n",
       " Table(name='Club_games', catalog=None, namespace=[], description=None, tableType='TEMPORARY', isTemporary=True),\n",
       " Table(name='Clubs', catalog=None, namespace=[], description=None, tableType='TEMPORARY', isTemporary=True),\n",
       " Table(name='Competitions', catalog=None, namespace=[], description=None, tableType='TEMPORARY', isTemporary=True),\n",
       " Table(name='Domestic_goals', catalog=None, namespace=[], description=None, tableType='TEMPORARY', isTemporary=True),\n",
       " Table(name='Events', catalog=None, namespace=[], description=None, tableType='TEMPORARY', isTemporary=True),\n",
       " Table(name='Games', catalog=None, namespace=[], description=None, tableType='TEMPORARY', isTemporary=True),\n",
       " Table(name='International', catalog=None, namespace=[], description=None, tableType='TEMPORARY', isTemporary=True),\n",
       " Table(name='Performance', catalog=None, namespace=[], description=None, tableType='TEMPORARY', isTemporary=True),\n",
       " Table(name='Players', catalog=None, namespace=[], description=None, tableType='TEMPORARY', isTemporary=True),\n",
       " Table(name='Valuations', catalog=None, namespace=[], description=None, tableType='TEMPORARY', isTemporary=True)]"
      ]
     },
     "execution_count": 25,
     "metadata": {},
     "output_type": "execute_result"
    }
   ],
   "source": [
    "spark.catalog.listTables()"
   ]
  },
  {
   "cell_type": "code",
   "execution_count": 30,
   "id": "54ef8cff-66c6-4215-ad14-e7dc9e7e2a35",
   "metadata": {},
   "outputs": [],
   "source": [
    "query = '''\n",
    "        SELECT\n",
    "            P.competition_id,\n",
    "            P.country,\n",
    "            P.leagueName,\n",
    "            P.season,\n",
    "            P.first_id,\n",
    "            P.point_diff,\n",
    "            D.totalGames,\n",
    "            D.goals,\n",
    "            D.goalsPerGame,\n",
    "            I.total_matches,\n",
    "            I.playoffs_matches,\n",
    "            I.total_wins\n",
    "        FROM Performance AS P\n",
    "        LEFT JOIN Domestic_goals AS D\n",
    "            ON P.competition_id = D.competition_id AND P.season = D.season\n",
    "        LEFT JOIN International AS I\n",
    "            ON P.competition_id = I.competition_id AND P.season = I.season\n",
    "        ORDER BY season, country;\n",
    "        '''\n",
    "\n",
    "df = spark.sql(query)"
   ]
  },
  {
   "cell_type": "code",
   "execution_count": 31,
   "id": "16946fe7-8db7-4f56-8f74-f09dd5fb8e93",
   "metadata": {},
   "outputs": [
    {
     "name": "stderr",
     "output_type": "stream",
     "text": [
      "                                                                                \r"
     ]
    },
    {
     "name": "stdout",
     "output_type": "stream",
     "text": [
      "+--------------+-----------+------------------+------+--------+----------+----------+-----+------------+-------------+----------------+----------+\n",
      "|competition_id|    country|        leagueName|season|first_id|point_diff|totalGames|goals|goalsPerGame|total_matches|playoffs_matches|total_wins|\n",
      "+--------------+-----------+------------------+------+--------+----------+----------+-----+------------+-------------+----------------+----------+\n",
      "|           BE1|    Belgium|jupiler-pro-league|  2012|      58|        53|       240|  703|       2.929|           18|               0|         5|\n",
      "|           DK1|    Denmark|       superligaen|  2012|     190|        34|       197|  558|       2.832|           12|               0|         2|\n",
      "|           GB1|    England|    premier-league|  2012|     985|        64|       380| 1063|       2.797|           61|              19|        25|\n",
      "|           FR1|     France|           ligue-1|  2012|     583|        54|       380|  967|       2.545|           42|               6|        17|\n",
      "|            L1|    Germany|        bundesliga|  2012|      27|        70|       306|  898|       2.935|           60|              18|        32|\n",
      "|           GR1|     Greece|    super-league-1|  2012|     683|        57|       240|  512|       2.133|           12|               0|         4|\n",
      "|           IT1|      Italy|           serie-a|  2012|     506|        65|       380| 1003|       2.639|           48|              12|        21|\n",
      "|           NL1|Netherlands|        eredivisie|  2012|     610|        53|       306|  964|        3.15|           18|               0|         3|\n",
      "|           PO1|   Portugal|liga-portugal-bwin|  2012|     720|        55|       240|  667|       2.779|           45|               9|        15|\n",
      "|           RU1|     Russia|      premier-liga|  2012|    2410|        45|       240|  627|       2.613|           32|               8|        13|\n",
      "+--------------+-----------+------------------+------+--------+----------+----------+-----+------------+-------------+----------------+----------+\n",
      "only showing top 10 rows\n",
      "\n"
     ]
    }
   ],
   "source": [
    "df.show(10)"
   ]
  },
  {
   "cell_type": "code",
   "execution_count": 32,
   "id": "6255994f-db0c-4b80-8bd5-ff29e3e53725",
   "metadata": {},
   "outputs": [
    {
     "name": "stderr",
     "output_type": "stream",
     "text": [
      "                                                                                \r"
     ]
    }
   ],
   "source": [
    "# Convert to pandas\n",
    "final_df = df.toPandas()"
   ]
  },
  {
   "cell_type": "code",
   "execution_count": 33,
   "id": "d581581a-fa6d-4225-b7db-f7a8b047b81a",
   "metadata": {},
   "outputs": [
    {
     "data": {
      "text/html": [
       "<div>\n",
       "<style scoped>\n",
       "    .dataframe tbody tr th:only-of-type {\n",
       "        vertical-align: middle;\n",
       "    }\n",
       "\n",
       "    .dataframe tbody tr th {\n",
       "        vertical-align: top;\n",
       "    }\n",
       "\n",
       "    .dataframe thead th {\n",
       "        text-align: right;\n",
       "    }\n",
       "</style>\n",
       "<table border=\"1\" class=\"dataframe\">\n",
       "  <thead>\n",
       "    <tr style=\"text-align: right;\">\n",
       "      <th></th>\n",
       "      <th>competition_id</th>\n",
       "      <th>country</th>\n",
       "      <th>leagueName</th>\n",
       "      <th>season</th>\n",
       "      <th>first_id</th>\n",
       "      <th>point_diff</th>\n",
       "      <th>totalGames</th>\n",
       "      <th>goals</th>\n",
       "      <th>goalsPerGame</th>\n",
       "      <th>total_matches</th>\n",
       "      <th>playoffs_matches</th>\n",
       "      <th>total_wins</th>\n",
       "    </tr>\n",
       "  </thead>\n",
       "  <tbody>\n",
       "    <tr>\n",
       "      <th>0</th>\n",
       "      <td>BE1</td>\n",
       "      <td>Belgium</td>\n",
       "      <td>jupiler-pro-league</td>\n",
       "      <td>2012</td>\n",
       "      <td>58</td>\n",
       "      <td>53</td>\n",
       "      <td>240</td>\n",
       "      <td>703</td>\n",
       "      <td>2.929</td>\n",
       "      <td>18.0</td>\n",
       "      <td>0.0</td>\n",
       "      <td>5.0</td>\n",
       "    </tr>\n",
       "    <tr>\n",
       "      <th>1</th>\n",
       "      <td>DK1</td>\n",
       "      <td>Denmark</td>\n",
       "      <td>superligaen</td>\n",
       "      <td>2012</td>\n",
       "      <td>190</td>\n",
       "      <td>34</td>\n",
       "      <td>197</td>\n",
       "      <td>558</td>\n",
       "      <td>2.832</td>\n",
       "      <td>12.0</td>\n",
       "      <td>0.0</td>\n",
       "      <td>2.0</td>\n",
       "    </tr>\n",
       "    <tr>\n",
       "      <th>2</th>\n",
       "      <td>GB1</td>\n",
       "      <td>England</td>\n",
       "      <td>premier-league</td>\n",
       "      <td>2012</td>\n",
       "      <td>985</td>\n",
       "      <td>64</td>\n",
       "      <td>380</td>\n",
       "      <td>1063</td>\n",
       "      <td>2.797</td>\n",
       "      <td>61.0</td>\n",
       "      <td>19.0</td>\n",
       "      <td>25.0</td>\n",
       "    </tr>\n",
       "    <tr>\n",
       "      <th>3</th>\n",
       "      <td>FR1</td>\n",
       "      <td>France</td>\n",
       "      <td>ligue-1</td>\n",
       "      <td>2012</td>\n",
       "      <td>583</td>\n",
       "      <td>54</td>\n",
       "      <td>380</td>\n",
       "      <td>967</td>\n",
       "      <td>2.545</td>\n",
       "      <td>42.0</td>\n",
       "      <td>6.0</td>\n",
       "      <td>17.0</td>\n",
       "    </tr>\n",
       "    <tr>\n",
       "      <th>4</th>\n",
       "      <td>L1</td>\n",
       "      <td>Germany</td>\n",
       "      <td>bundesliga</td>\n",
       "      <td>2012</td>\n",
       "      <td>27</td>\n",
       "      <td>70</td>\n",
       "      <td>306</td>\n",
       "      <td>898</td>\n",
       "      <td>2.935</td>\n",
       "      <td>60.0</td>\n",
       "      <td>18.0</td>\n",
       "      <td>32.0</td>\n",
       "    </tr>\n",
       "  </tbody>\n",
       "</table>\n",
       "</div>"
      ],
      "text/plain": [
       "  competition_id  country          leagueName  season  first_id  point_diff  \\\n",
       "0            BE1  Belgium  jupiler-pro-league    2012        58          53   \n",
       "1            DK1  Denmark         superligaen    2012       190          34   \n",
       "2            GB1  England      premier-league    2012       985          64   \n",
       "3            FR1   France             ligue-1    2012       583          54   \n",
       "4             L1  Germany          bundesliga    2012        27          70   \n",
       "\n",
       "   totalGames  goals  goalsPerGame  total_matches  playoffs_matches  \\\n",
       "0         240    703         2.929           18.0               0.0   \n",
       "1         197    558         2.832           12.0               0.0   \n",
       "2         380   1063         2.797           61.0              19.0   \n",
       "3         380    967         2.545           42.0               6.0   \n",
       "4         306    898         2.935           60.0              18.0   \n",
       "\n",
       "   total_wins  \n",
       "0         5.0  \n",
       "1         2.0  \n",
       "2        25.0  \n",
       "3        17.0  \n",
       "4        32.0  "
      ]
     },
     "execution_count": 33,
     "metadata": {},
     "output_type": "execute_result"
    }
   ],
   "source": [
    "final_df.head()"
   ]
  },
  {
   "cell_type": "code",
   "execution_count": 34,
   "id": "f152ece3-91b9-4cea-920b-9a823dbcb8c6",
   "metadata": {},
   "outputs": [
    {
     "name": "stdout",
     "output_type": "stream",
     "text": [
      "<class 'pandas.core.frame.DataFrame'>\n",
      "RangeIndex: 160 entries, 0 to 159\n",
      "Data columns (total 12 columns):\n",
      " #   Column            Non-Null Count  Dtype  \n",
      "---  ------            --------------  -----  \n",
      " 0   competition_id    160 non-null    object \n",
      " 1   country           160 non-null    object \n",
      " 2   leagueName        160 non-null    object \n",
      " 3   season            160 non-null    int32  \n",
      " 4   first_id          160 non-null    int32  \n",
      " 5   point_diff        160 non-null    int64  \n",
      " 6   totalGames        160 non-null    int64  \n",
      " 7   goals             160 non-null    int64  \n",
      " 8   goalsPerGame      160 non-null    float64\n",
      " 9   total_matches     159 non-null    float64\n",
      " 10  playoffs_matches  159 non-null    float64\n",
      " 11  total_wins        159 non-null    float64\n",
      "dtypes: float64(4), int32(2), int64(3), object(3)\n",
      "memory usage: 13.9+ KB\n"
     ]
    }
   ],
   "source": [
    "final_df.info()"
   ]
  },
  {
   "cell_type": "markdown",
   "id": "193a4b7b-dced-4bf2-8c6d-88bc76c45689",
   "metadata": {},
   "source": [
    "Note that Russia has no information for the 2022 internation competition since it was banned due to **Russo-Ukrainian War**."
   ]
  },
  {
   "cell_type": "code",
   "execution_count": 35,
   "id": "539450ca-8df3-4f49-9600-7bcfad1e67d0",
   "metadata": {},
   "outputs": [
    {
     "data": {
      "text/html": [
       "<div>\n",
       "<style scoped>\n",
       "    .dataframe tbody tr th:only-of-type {\n",
       "        vertical-align: middle;\n",
       "    }\n",
       "\n",
       "    .dataframe tbody tr th {\n",
       "        vertical-align: top;\n",
       "    }\n",
       "\n",
       "    .dataframe thead th {\n",
       "        text-align: right;\n",
       "    }\n",
       "</style>\n",
       "<table border=\"1\" class=\"dataframe\">\n",
       "  <thead>\n",
       "    <tr style=\"text-align: right;\">\n",
       "      <th></th>\n",
       "      <th>competition_id</th>\n",
       "      <th>country</th>\n",
       "      <th>leagueName</th>\n",
       "      <th>season</th>\n",
       "      <th>first_id</th>\n",
       "      <th>point_diff</th>\n",
       "      <th>totalGames</th>\n",
       "      <th>goals</th>\n",
       "      <th>goalsPerGame</th>\n",
       "      <th>total_matches</th>\n",
       "      <th>playoffs_matches</th>\n",
       "      <th>total_wins</th>\n",
       "    </tr>\n",
       "  </thead>\n",
       "  <tbody>\n",
       "    <tr>\n",
       "      <th>155</th>\n",
       "      <td>RU1</td>\n",
       "      <td>Russia</td>\n",
       "      <td>premier-liga</td>\n",
       "      <td>2022</td>\n",
       "      <td>964</td>\n",
       "      <td>57</td>\n",
       "      <td>240</td>\n",
       "      <td>730</td>\n",
       "      <td>3.042</td>\n",
       "      <td>NaN</td>\n",
       "      <td>NaN</td>\n",
       "      <td>NaN</td>\n",
       "    </tr>\n",
       "  </tbody>\n",
       "</table>\n",
       "</div>"
      ],
      "text/plain": [
       "    competition_id country    leagueName  season  first_id  point_diff  \\\n",
       "155            RU1  Russia  premier-liga    2022       964          57   \n",
       "\n",
       "     totalGames  goals  goalsPerGame  total_matches  playoffs_matches  \\\n",
       "155         240    730         3.042            NaN               NaN   \n",
       "\n",
       "     total_wins  \n",
       "155         NaN  "
      ]
     },
     "execution_count": 35,
     "metadata": {},
     "output_type": "execute_result"
    }
   ],
   "source": [
    "final_df[final_df['playoffs_matches'].isna()]"
   ]
  },
  {
   "cell_type": "code",
   "execution_count": 36,
   "id": "daf7ec8c-917a-4c4d-b20e-fd73ace17a7e",
   "metadata": {},
   "outputs": [],
   "source": [
    "# Remove duplicate that refer to seasons with a tie in points at the end of the tournament\n",
    "final_df = final_df.drop_duplicates(subset=['competition_id', 'season'])"
   ]
  },
  {
   "cell_type": "code",
   "execution_count": 38,
   "id": "05583117-2c16-46a3-a9fd-3d255488fda2",
   "metadata": {},
   "outputs": [],
   "source": [
    "final_df.reset_index(inplace=True, drop=True)"
   ]
  },
  {
   "cell_type": "code",
   "execution_count": 40,
   "id": "e8f3b015-43a5-4a59-991c-64f93ce68fe9",
   "metadata": {},
   "outputs": [
    {
     "data": {
      "text/html": [
       "<div>\n",
       "<style scoped>\n",
       "    .dataframe tbody tr th:only-of-type {\n",
       "        vertical-align: middle;\n",
       "    }\n",
       "\n",
       "    .dataframe tbody tr th {\n",
       "        vertical-align: top;\n",
       "    }\n",
       "\n",
       "    .dataframe thead th {\n",
       "        text-align: right;\n",
       "    }\n",
       "</style>\n",
       "<table border=\"1\" class=\"dataframe\">\n",
       "  <thead>\n",
       "    <tr style=\"text-align: right;\">\n",
       "      <th></th>\n",
       "      <th>competition_id</th>\n",
       "      <th>country</th>\n",
       "      <th>leagueName</th>\n",
       "      <th>season</th>\n",
       "      <th>first_id</th>\n",
       "      <th>point_diff</th>\n",
       "      <th>totalGames</th>\n",
       "      <th>goals</th>\n",
       "      <th>goalsPerGame</th>\n",
       "      <th>total_matches</th>\n",
       "      <th>playoffs_matches</th>\n",
       "      <th>total_wins</th>\n",
       "    </tr>\n",
       "  </thead>\n",
       "  <tbody>\n",
       "    <tr>\n",
       "      <th>0</th>\n",
       "      <td>BE1</td>\n",
       "      <td>Belgium</td>\n",
       "      <td>jupiler-pro-league</td>\n",
       "      <td>2012</td>\n",
       "      <td>58</td>\n",
       "      <td>53</td>\n",
       "      <td>240</td>\n",
       "      <td>703</td>\n",
       "      <td>2.929</td>\n",
       "      <td>18.0</td>\n",
       "      <td>0.0</td>\n",
       "      <td>5.0</td>\n",
       "    </tr>\n",
       "    <tr>\n",
       "      <th>1</th>\n",
       "      <td>DK1</td>\n",
       "      <td>Denmark</td>\n",
       "      <td>superligaen</td>\n",
       "      <td>2012</td>\n",
       "      <td>190</td>\n",
       "      <td>34</td>\n",
       "      <td>197</td>\n",
       "      <td>558</td>\n",
       "      <td>2.832</td>\n",
       "      <td>12.0</td>\n",
       "      <td>0.0</td>\n",
       "      <td>2.0</td>\n",
       "    </tr>\n",
       "    <tr>\n",
       "      <th>2</th>\n",
       "      <td>GB1</td>\n",
       "      <td>England</td>\n",
       "      <td>premier-league</td>\n",
       "      <td>2012</td>\n",
       "      <td>985</td>\n",
       "      <td>64</td>\n",
       "      <td>380</td>\n",
       "      <td>1063</td>\n",
       "      <td>2.797</td>\n",
       "      <td>61.0</td>\n",
       "      <td>19.0</td>\n",
       "      <td>25.0</td>\n",
       "    </tr>\n",
       "    <tr>\n",
       "      <th>3</th>\n",
       "      <td>FR1</td>\n",
       "      <td>France</td>\n",
       "      <td>ligue-1</td>\n",
       "      <td>2012</td>\n",
       "      <td>583</td>\n",
       "      <td>54</td>\n",
       "      <td>380</td>\n",
       "      <td>967</td>\n",
       "      <td>2.545</td>\n",
       "      <td>42.0</td>\n",
       "      <td>6.0</td>\n",
       "      <td>17.0</td>\n",
       "    </tr>\n",
       "    <tr>\n",
       "      <th>4</th>\n",
       "      <td>L1</td>\n",
       "      <td>Germany</td>\n",
       "      <td>bundesliga</td>\n",
       "      <td>2012</td>\n",
       "      <td>27</td>\n",
       "      <td>70</td>\n",
       "      <td>306</td>\n",
       "      <td>898</td>\n",
       "      <td>2.935</td>\n",
       "      <td>60.0</td>\n",
       "      <td>18.0</td>\n",
       "      <td>32.0</td>\n",
       "    </tr>\n",
       "  </tbody>\n",
       "</table>\n",
       "</div>"
      ],
      "text/plain": [
       "  competition_id  country          leagueName  season  first_id  point_diff  \\\n",
       "0            BE1  Belgium  jupiler-pro-league    2012        58          53   \n",
       "1            DK1  Denmark         superligaen    2012       190          34   \n",
       "2            GB1  England      premier-league    2012       985          64   \n",
       "3            FR1   France             ligue-1    2012       583          54   \n",
       "4             L1  Germany          bundesliga    2012        27          70   \n",
       "\n",
       "   totalGames  goals  goalsPerGame  total_matches  playoffs_matches  \\\n",
       "0         240    703         2.929           18.0               0.0   \n",
       "1         197    558         2.832           12.0               0.0   \n",
       "2         380   1063         2.797           61.0              19.0   \n",
       "3         380    967         2.545           42.0               6.0   \n",
       "4         306    898         2.935           60.0              18.0   \n",
       "\n",
       "   total_wins  \n",
       "0         5.0  \n",
       "1         2.0  \n",
       "2        25.0  \n",
       "3        17.0  \n",
       "4        32.0  "
      ]
     },
     "execution_count": 40,
     "metadata": {},
     "output_type": "execute_result"
    }
   ],
   "source": [
    "final_df.head()"
   ]
  },
  {
   "cell_type": "code",
   "execution_count": 42,
   "id": "772c3369-9eef-4742-8e96-93e93765817f",
   "metadata": {},
   "outputs": [],
   "source": [
    "# Save dataframe into csv file\n",
    "final_df.to_csv(\"football_league_performance.csv\", index=False)"
   ]
  },
  {
   "cell_type": "markdown",
   "id": "0404695a-9db7-4d6c-88f3-fdff5d1e89a3",
   "metadata": {},
   "source": [
    "## Conclusions"
   ]
  },
  {
   "cell_type": "markdown",
   "id": "1a268c63-4961-4197-a3e3-967c8195f08f",
   "metadata": {},
   "source": [
    "## Tests"
   ]
  },
  {
   "cell_type": "code",
   "execution_count": null,
   "id": "6487b7b9-62a0-4e28-ac70-450241d1d050",
   "metadata": {},
   "outputs": [],
   "source": [
    "query = '''\n",
    "        WITH international AS ( \n",
    "        SELECT\n",
    "            C.country_name AS country,\n",
    "            C.name AS domestic_league,\n",
    "            G.season AS season,\n",
    "            G.competition_id,\n",
    "            --Cb.club_id,\n",
    "            COUNT(*) AS total_matches,\n",
    "            SUM(CASE WHEN (LOWER(G.round) NOT LIKE 'group%' AND\n",
    "                           LOWER(G.round) NOT LIKE 'qualifying%' AND\n",
    "                           LOWER(G.round) NOT LIKE 'intermediate%' AND\n",
    "                           LOWER(G.round) NOT LIKE 'second round%') THEN 1\n",
    "                       ELSE 0 END) AS playoffs_matches,\n",
    "            SUM(CASE WHEN own_goals > opponent_goals THEN 1\n",
    "                ELSE 0 END) AS total_wins\n",
    "        FROM Club_games AS Cb\n",
    "        LEFT JOIN Games as G\n",
    "            ON Cb.game_id = G.game_id\n",
    "        LEFT JOIN Clubs as Cl\n",
    "            ON Cb.club_id = Cl.club_id\n",
    "        LEFT JOIN Competitions as C\n",
    "            ON CL.domestic_competition_id = C.competition_id\n",
    "        WHERE G.competition_id = 'CL' OR G.competition_id = 'EL'\n",
    "        GROUP BY C.country_name, C.name, G.season, G.competition_id, Cb.club_id)\n",
    "        \n",
    "        SELECT\n",
    "        country,\n",
    "        domestic_league,\n",
    "        season,\n",
    "        SUM(total_matches),\n",
    "        SUM(playoffs_matches),\n",
    "        SUM(total_wins)\n",
    "        FROM international\n",
    "        GROUP BY country, domestic_league, season\n",
    "        ORDER BY season, country;\n",
    "        '''\n",
    "\n",
    "df = "
   ]
  },
  {
   "cell_type": "code",
   "execution_count": 195,
   "id": "10bd587d-be0a-46f2-82b2-0e35f35e8646",
   "metadata": {},
   "outputs": [],
   "source": [
    "query = '''\n",
    "        SELECT\n",
    "        competition_id,\n",
    "        season,\n",
    "        round,\n",
    "        date,\n",
    "        home_club_name,\n",
    "        away_club_name\n",
    "        FROM Games as G\n",
    "        WHERE (G.competition_id = 'CL' OR G.competition_id = 'EL') \n",
    "            AND (home_club_id = 2481 OR home_club_id = 2481) and season = 2022;\n",
    "        '''\n",
    "\n",
    "df = spark.sql(query)"
   ]
  },
  {
   "cell_type": "code",
   "execution_count": 196,
   "id": "627cfc28-eb34-4909-baac-265ead551609",
   "metadata": {},
   "outputs": [
    {
     "name": "stdout",
     "output_type": "stream",
     "text": [
      "+--------------+------+-------+----------+--------------+-----------------+\n",
      "|competition_id|season|  round|      date|home_club_name|   away_club_name|\n",
      "+--------------+------+-------+----------+--------------+-----------------+\n",
      "|            EL|  2022|Group E|2022-10-06|          null|    Real Sociedad|\n",
      "|            EL|  2022|Group E|2022-09-15|          null|Manchester United|\n",
      "|            EL|  2022|Group E|2022-11-03|          null|             null|\n",
      "+--------------+------+-------+----------+--------------+-----------------+\n",
      "\n"
     ]
    }
   ],
   "source": [
    "df.show()"
   ]
  },
  {
   "cell_type": "code",
   "execution_count": 159,
   "id": "0d4a5c55-dbfe-42fe-a960-cdf1d4d2010d",
   "metadata": {},
   "outputs": [],
   "source": [
    "query = '''\n",
    "        SELECT Cb.game_id,\n",
    "               round,\n",
    "               own_goals,\n",
    "               opponent_goals\n",
    "        FROM Club_games as Cb\n",
    "        LEFT JOIN Games as G\n",
    "        ON Cb.game_id = G.game_id\n",
    "        WHERE Cb.club_id = 938\n",
    "        '''\n",
    "\n",
    "df = spark.sql(query)"
   ]
  },
  {
   "cell_type": "code",
   "execution_count": 160,
   "id": "8022e8f5-daad-4e24-b334-360be4e7b34b",
   "metadata": {},
   "outputs": [
    {
     "name": "stdout",
     "output_type": "stream",
     "text": [
      "+-------+--------------------+---------+--------------+\n",
      "|game_id|               round|own_goals|opponent_goals|\n",
      "+-------+--------------------+---------+--------------+\n",
      "|2367346|             Group G|        0|             1|\n",
      "|2367220|             Group G|        1|             0|\n",
      "|2583620|Second Round 2nd leg|        2|             1|\n",
      "|2605684|   3rd round 1st leg|        0|             0|\n",
      "|2345067|Second Round 1st leg|        2|             0|\n",
      "|2360973|Qualifying Round ...|        3|             0|\n",
      "|2367302|             Group G|        0|             2|\n",
      "|2618170|   4th round 2nd leg|        3|             3|\n",
      "|2351355|   3rd round 2nd leg|        1|             0|\n",
      "|3232462|   3rd round 1st leg|        2|             3|\n",
      "|3232470|   3rd round 2nd leg|        1|             2|\n",
      "|2345090|Second Round 2nd leg|        3|             1|\n",
      "|2367265|             Group G|        0|             3|\n",
      "|2604789|   3rd round 2nd leg|        2|             2|\n",
      "|2614736|   4th round 1st leg|        1|             3|\n",
      "|2367324|             Group G|        1|             2|\n",
      "|2583617|Second Round 1st leg|        1|             1|\n",
      "|2367242|             Group G|        1|             2|\n",
      "|2351354|   3rd round 1st leg|        2|             1|\n",
      "|2360929|Qualifying Round ...|        0|             1|\n",
      "+-------+--------------------+---------+--------------+\n",
      "\n"
     ]
    }
   ],
   "source": [
    "df.show()"
   ]
  },
  {
   "cell_type": "code",
   "execution_count": 12,
   "id": "b7ffe75c-da2b-47d4-9568-b3b8f86aeb13",
   "metadata": {},
   "outputs": [],
   "source": [
    "query = '''\n",
    "        WITH S AS (SELECT G.competition_id,\n",
    "               Cb.club_id,\n",
    "               G.season as season,\n",
    "               SUM(CASE WHEN own_goals > opponent_goals THEN 3\n",
    "                     WHEN own_goals < opponent_goals THEN 0\n",
    "                     ELSE 1 END) as points\n",
    "        FROM Club_games as Cb\n",
    "        LEFT JOIN Games as G\n",
    "        ON Cb.game_id = G.game_id\n",
    "        WHERE G.competition_type = 'domestic_league'\n",
    "        GROUP BY G.competition_id, Cb.club_id, G.season\n",
    "        ORDER BY season)\n",
    "        SELECT T.competition_id,\n",
    "               T.season,\n",
    "               T.club_id,\n",
    "               T.points,\n",
    "               T.max_points\n",
    "        FROM(SELECT S.competition_id,\n",
    "               S.season, \n",
    "               S.club_id,\n",
    "               S.points,\n",
    "               S2.max_points\n",
    "        FROM S\n",
    "        LEFT JOIN (SELECT competition_id,\n",
    "                          season,\n",
    "                          MAX(points) as max_points\n",
    "                   FROM S \n",
    "                   GROUP BY S.competition_id, S.season) AS S2\n",
    "        ON S.competition_id = S2.competition_id AND S.season = S2.season \n",
    "        ORDER BY season) as T\n",
    "        WHERE T.points = T.max_points\n",
    "        ORDER BY season, competition_id;\n",
    "        '''\n",
    "\n",
    "df = spark.sql(query)"
   ]
  },
  {
   "cell_type": "code",
   "execution_count": 13,
   "id": "3210447d-d50b-4102-a527-2e0b66d3f3f2",
   "metadata": {},
   "outputs": [
    {
     "name": "stderr",
     "output_type": "stream",
     "text": [
      "                                                                                \r"
     ]
    },
    {
     "name": "stdout",
     "output_type": "stream",
     "text": [
      "+--------------+------+-------+------+----------+\n",
      "|competition_id|season|club_id|points|max_points|\n",
      "+--------------+------+-------+------+----------+\n",
      "|           BE1|  2012|     58|    67|        67|\n",
      "|           DK1|  2012|    190|    65|        65|\n",
      "|           ES1|  2012|    131|   100|       100|\n",
      "|           FR1|  2012|    583|    83|        83|\n",
      "|           GB1|  2012|    985|    89|        89|\n",
      "|           GR1|  2012|    683|    77|        77|\n",
      "|           IT1|  2012|    506|    87|        87|\n",
      "|            L1|  2012|     27|    91|        91|\n",
      "|           NL1|  2012|    610|    76|        76|\n",
      "|           PO1|  2012|    720|    78|        78|\n",
      "|           RU1|  2012|   2410|    64|        64|\n",
      "|           SC1|  2012|    371|    79|        79|\n",
      "|           TR1|  2012|    141|    71|        71|\n",
      "|          UKR1|  2012|    660|    79|        79|\n",
      "|           BE1|  2013|   3057|    67|        67|\n",
      "|           DK1|  2013|   1053|    62|        62|\n",
      "|           ES1|  2013|     13|    90|        90|\n",
      "|           FR1|  2013|    583|    89|        89|\n",
      "|           GB1|  2013|    281|    86|        86|\n",
      "|           GR1|  2013|    683|    86|        86|\n",
      "+--------------+------+-------+------+----------+\n",
      "only showing top 20 rows\n",
      "\n"
     ]
    }
   ],
   "source": [
    "df.show()"
   ]
  },
  {
   "cell_type": "code",
   "execution_count": 260,
   "id": "498372c4-15e2-467c-843b-78945b74b45e",
   "metadata": {},
   "outputs": [
    {
     "name": "stderr",
     "output_type": "stream",
     "text": [
      "                                                                                \r"
     ]
    }
   ],
   "source": [
    "pd_df = df.toPandas()"
   ]
  },
  {
   "cell_type": "code",
   "execution_count": 273,
   "id": "501b8b03-b23b-4437-8290-3d20436feea7",
   "metadata": {},
   "outputs": [
    {
     "data": {
      "text/html": [
       "<div>\n",
       "<style scoped>\n",
       "    .dataframe tbody tr th:only-of-type {\n",
       "        vertical-align: middle;\n",
       "    }\n",
       "\n",
       "    .dataframe tbody tr th {\n",
       "        vertical-align: top;\n",
       "    }\n",
       "\n",
       "    .dataframe thead th {\n",
       "        text-align: right;\n",
       "    }\n",
       "</style>\n",
       "<table border=\"1\" class=\"dataframe\">\n",
       "  <thead>\n",
       "    <tr style=\"text-align: right;\">\n",
       "      <th></th>\n",
       "      <th>season</th>\n",
       "      <th>club_id</th>\n",
       "      <th>points</th>\n",
       "      <th>max_points</th>\n",
       "    </tr>\n",
       "    <tr>\n",
       "      <th>competition_id</th>\n",
       "      <th></th>\n",
       "      <th></th>\n",
       "      <th></th>\n",
       "      <th></th>\n",
       "    </tr>\n",
       "  </thead>\n",
       "  <tbody>\n",
       "    <tr>\n",
       "      <th>BE1</th>\n",
       "      <td>2</td>\n",
       "      <td>2</td>\n",
       "      <td>2</td>\n",
       "      <td>2</td>\n",
       "    </tr>\n",
       "    <tr>\n",
       "      <th>DK1</th>\n",
       "      <td>1</td>\n",
       "      <td>1</td>\n",
       "      <td>1</td>\n",
       "      <td>1</td>\n",
       "    </tr>\n",
       "    <tr>\n",
       "      <th>ES1</th>\n",
       "      <td>1</td>\n",
       "      <td>1</td>\n",
       "      <td>1</td>\n",
       "      <td>1</td>\n",
       "    </tr>\n",
       "    <tr>\n",
       "      <th>FR1</th>\n",
       "      <td>1</td>\n",
       "      <td>1</td>\n",
       "      <td>1</td>\n",
       "      <td>1</td>\n",
       "    </tr>\n",
       "    <tr>\n",
       "      <th>GB1</th>\n",
       "      <td>1</td>\n",
       "      <td>1</td>\n",
       "      <td>1</td>\n",
       "      <td>1</td>\n",
       "    </tr>\n",
       "    <tr>\n",
       "      <th>GR1</th>\n",
       "      <td>1</td>\n",
       "      <td>1</td>\n",
       "      <td>1</td>\n",
       "      <td>1</td>\n",
       "    </tr>\n",
       "    <tr>\n",
       "      <th>IT1</th>\n",
       "      <td>1</td>\n",
       "      <td>1</td>\n",
       "      <td>1</td>\n",
       "      <td>1</td>\n",
       "    </tr>\n",
       "    <tr>\n",
       "      <th>L1</th>\n",
       "      <td>2</td>\n",
       "      <td>2</td>\n",
       "      <td>2</td>\n",
       "      <td>2</td>\n",
       "    </tr>\n",
       "    <tr>\n",
       "      <th>NL1</th>\n",
       "      <td>1</td>\n",
       "      <td>1</td>\n",
       "      <td>1</td>\n",
       "      <td>1</td>\n",
       "    </tr>\n",
       "    <tr>\n",
       "      <th>PO1</th>\n",
       "      <td>1</td>\n",
       "      <td>1</td>\n",
       "      <td>1</td>\n",
       "      <td>1</td>\n",
       "    </tr>\n",
       "    <tr>\n",
       "      <th>RU1</th>\n",
       "      <td>1</td>\n",
       "      <td>1</td>\n",
       "      <td>1</td>\n",
       "      <td>1</td>\n",
       "    </tr>\n",
       "    <tr>\n",
       "      <th>SC1</th>\n",
       "      <td>1</td>\n",
       "      <td>1</td>\n",
       "      <td>1</td>\n",
       "      <td>1</td>\n",
       "    </tr>\n",
       "    <tr>\n",
       "      <th>TR1</th>\n",
       "      <td>1</td>\n",
       "      <td>1</td>\n",
       "      <td>1</td>\n",
       "      <td>1</td>\n",
       "    </tr>\n",
       "    <tr>\n",
       "      <th>UKR1</th>\n",
       "      <td>1</td>\n",
       "      <td>1</td>\n",
       "      <td>1</td>\n",
       "      <td>1</td>\n",
       "    </tr>\n",
       "  </tbody>\n",
       "</table>\n",
       "</div>"
      ],
      "text/plain": [
       "                season  club_id  points  max_points\n",
       "competition_id                                     \n",
       "BE1                  2        2       2           2\n",
       "DK1                  1        1       1           1\n",
       "ES1                  1        1       1           1\n",
       "FR1                  1        1       1           1\n",
       "GB1                  1        1       1           1\n",
       "GR1                  1        1       1           1\n",
       "IT1                  1        1       1           1\n",
       "L1                   2        2       2           2\n",
       "NL1                  1        1       1           1\n",
       "PO1                  1        1       1           1\n",
       "RU1                  1        1       1           1\n",
       "SC1                  1        1       1           1\n",
       "TR1                  1        1       1           1\n",
       "UKR1                 1        1       1           1"
      ]
     },
     "execution_count": 273,
     "metadata": {},
     "output_type": "execute_result"
    }
   ],
   "source": [
    "pd_df[pd_df['season']==2022].groupby('competition_id').count()"
   ]
  },
  {
   "cell_type": "code",
   "execution_count": 23,
   "id": "5047af7b-00dc-4b5b-9d77-982c28d66afd",
   "metadata": {},
   "outputs": [],
   "source": [
    "query = '''\n",
    "        WITH S AS (SELECT G.competition_id AS competition,\n",
    "               Cb.club_id AS first,\n",
    "               G.season AS season,\n",
    "               SUM(CASE WHEN own_goals > opponent_goals THEN 3\n",
    "                     WHEN own_goals < opponent_goals THEN 0\n",
    "                     ELSE 1 END) AS points,\n",
    "               MAX(SUM(CASE WHEN own_goals > opponent_goals THEN 3\n",
    "                     WHEN own_goals < opponent_goals THEN 0\n",
    "                     ELSE 1 END)) OVER(PARTITION BY competition_id, season) AS max_points\n",
    "        FROM Club_games as Cb\n",
    "        LEFT JOIN Games as G\n",
    "        ON Cb.game_id = G.game_id\n",
    "        WHERE G.competition_type = 'domestic_league'\n",
    "        GROUP BY G.competition_id, Cb.club_id, G.season\n",
    "        ORDER BY season)\n",
    "        \n",
    "        SELECT competition,\n",
    "               season,\n",
    "               first,\n",
    "               points,\n",
    "               max_points\n",
    "        FROM S\n",
    "        WHERE points = max_points\n",
    "        ORDER BY season, competition;\n",
    "        '''\n",
    "\n",
    "df = spark.sql(query)"
   ]
  },
  {
   "cell_type": "code",
   "execution_count": 24,
   "id": "c0992217-cc30-47ae-9ace-3432238b4a28",
   "metadata": {},
   "outputs": [
    {
     "name": "stderr",
     "output_type": "stream",
     "text": [
      "[Stage 45:==============>                                           (1 + 3) / 4]\r"
     ]
    },
    {
     "name": "stdout",
     "output_type": "stream",
     "text": [
      "+-----------+------+-----+------+----------+\n",
      "|competition|season|first|points|max_points|\n",
      "+-----------+------+-----+------+----------+\n",
      "|        BE1|  2012|   58|    67|        67|\n",
      "|        DK1|  2012|  190|    65|        65|\n",
      "|        ES1|  2012|  131|   100|       100|\n",
      "|        FR1|  2012|  583|    83|        83|\n",
      "|        GB1|  2012|  985|    89|        89|\n",
      "|        GR1|  2012|  683|    77|        77|\n",
      "|        IT1|  2012|  506|    87|        87|\n",
      "|         L1|  2012|   27|    91|        91|\n",
      "|        NL1|  2012|  610|    76|        76|\n",
      "|        PO1|  2012|  720|    78|        78|\n",
      "|        RU1|  2012| 2410|    64|        64|\n",
      "|        SC1|  2012|  371|    79|        79|\n",
      "|        TR1|  2012|  141|    71|        71|\n",
      "|       UKR1|  2012|  660|    79|        79|\n",
      "|        BE1|  2013| 3057|    67|        67|\n",
      "|        DK1|  2013| 1053|    62|        62|\n",
      "|        ES1|  2013|   13|    90|        90|\n",
      "|        FR1|  2013|  583|    89|        89|\n",
      "|        GB1|  2013|  281|    86|        86|\n",
      "|        GR1|  2013|  683|    86|        86|\n",
      "+-----------+------+-----+------+----------+\n",
      "only showing top 20 rows\n",
      "\n"
     ]
    },
    {
     "name": "stderr",
     "output_type": "stream",
     "text": [
      "                                                                                \r"
     ]
    }
   ],
   "source": [
    "df.show()"
   ]
  },
  {
   "cell_type": "code",
   "execution_count": 88,
   "id": "1d9e12aa-8406-43b7-ba01-8c134862325e",
   "metadata": {},
   "outputs": [],
   "source": [
    "# First let's obtain the number of stages for each country\n",
    "query = '''\n",
    "        SELECT competition_id,\n",
    "        season,\n",
    "        MAX(CAST(SPLIT(round, '\\\\\\\\.')[0] AS INT)) AS round\n",
    "        FROM Games\n",
    "        WHERE Games.competition_type = 'domestic_league'\n",
    "        GROUP BY competition_id, season;\n",
    "        '''\n",
    "\n",
    "df = spark.sql(query)"
   ]
  },
  {
   "cell_type": "code",
   "execution_count": 89,
   "id": "1d373585-80da-4a4d-9ba4-3534ed1fd24a",
   "metadata": {},
   "outputs": [
    {
     "name": "stderr",
     "output_type": "stream",
     "text": [
      "[Stage 82:==============>                                           (1 + 3) / 4]\r"
     ]
    },
    {
     "name": "stdout",
     "output_type": "stream",
     "text": [
      "+--------------+------+-----+\n",
      "|competition_id|season|round|\n",
      "+--------------+------+-----+\n",
      "|           NL1|  2019|   26|\n",
      "|           SC1|  2020|   33|\n",
      "|           GR1|  2018|   30|\n",
      "|           GR1|  2022|   26|\n",
      "|           IT1|  2022|   38|\n",
      "|           IT1|  2012|   38|\n",
      "|           TR1|  2017|   34|\n",
      "|           BE1|  2017|   30|\n",
      "|           GR1|  2019|   26|\n",
      "|           ES1|  2014|   38|\n",
      "|           RU1|  2014|   30|\n",
      "|           BE1|  2014|   30|\n",
      "|           NL1|  2022|   34|\n",
      "|           GB1|  2012|   38|\n",
      "|           ES1|  2012|   38|\n",
      "|           RU1|  2018|   30|\n",
      "|           IT1|  2020|   38|\n",
      "|           TR1|  2012|   34|\n",
      "|           IT1|  2013|   38|\n",
      "|           TR1|  2016|   34|\n",
      "+--------------+------+-----+\n",
      "only showing top 20 rows\n",
      "\n"
     ]
    },
    {
     "name": "stderr",
     "output_type": "stream",
     "text": [
      "                                                                                \r"
     ]
    }
   ],
   "source": [
    "df.show()"
   ]
  },
  {
   "cell_type": "code",
   "execution_count": 157,
   "id": "facfb78e-e3d7-4e0f-a950-fc9c131bf5ad",
   "metadata": {},
   "outputs": [],
   "source": [
    "# First let's obtain the number of stages for each country\n",
    "query = '''\n",
    "        SELECT C.country_name AS country,\n",
    "               C.name AS leagueName,\n",
    "               G.season AS season,\n",
    "               G.game_id,\n",
    "               G.home_club_position,\n",
    "               G.away_club_position\n",
    "        FROM Competitions as C\n",
    "        LEFT JOIN Games as G\n",
    "        ON C.competition_id = G.competition_id\n",
    "        LEFT JOIN (SELECT competition_id,\n",
    "                   season,\n",
    "                   MAX(CAST(SPLIT(round, '\\\\\\\\.')[0] AS INT)) as last_round\n",
    "                   FROM Games\n",
    "                   WHERE Games.competition_type = 'domestic_league'\n",
    "                   GROUP BY competition_id, season) as S\n",
    "        ON C.competition_id = S.competition_id AND G.season = S.season\n",
    "        WHERE CAST(SPLIT(G.round, '\\\\\\\\.')[0] AS INT) = S.last_round AND C.type='domestic_league';\n",
    "        '''\n",
    "\n",
    "df = spark.sql(query)"
   ]
  },
  {
   "cell_type": "code",
   "execution_count": 150,
   "id": "68ce95ec-3368-4897-a6a9-a7c78cd2914d",
   "metadata": {},
   "outputs": [
    {
     "name": "stderr",
     "output_type": "stream",
     "text": [
      "                                                                                \r"
     ]
    },
    {
     "name": "stdout",
     "output_type": "stream",
     "text": [
      "+-----------+--------------------+------+-------+-----+----------+\n",
      "|    country|          leagueName|season|game_id|round|last_round|\n",
      "+-----------+--------------------+------+-------+-----+----------+\n",
      "|Netherlands|          eredivisie|  2012|2250470|   34|        34|\n",
      "|   Portugal|  liga-portugal-bwin|  2015|2613701|   34|        34|\n",
      "|    Belgium|  jupiler-pro-league|  2015|2668509|   30|        30|\n",
      "|    Ukraine|        premier-liga|  2016|2854408|   32|        32|\n",
      "|    Denmark|         superligaen|  2018|3063780|   26|        26|\n",
      "|      Spain|              laliga|  2019|3208629|   38|        38|\n",
      "|    England|      premier-league|  2019|3219102|   38|        38|\n",
      "|    Ukraine|        premier-liga|  2022|4070623|   30|        30|\n",
      "|   Scotland|scottish-premiership|  2013|2452090|   38|        38|\n",
      "|     Greece|      super-league-1|  2017|2891647|   30|        30|\n",
      "|      Italy|             serie-a|  2017|2897541|   38|        38|\n",
      "|     Greece|      super-league-1|  2019|3309820|   26|        26|\n",
      "|     Russia|        premier-liga|  2019|3335188|   30|        30|\n",
      "|   Scotland|scottish-premiership|  2021|3603246|   33|        33|\n",
      "|    England|      premier-league|  2012|2225737|   38|        38|\n",
      "|   Portugal|  liga-portugal-bwin|  2012|2240242|   30|        30|\n",
      "|     Russia|        premier-liga|  2018|3183732|   30|        30|\n",
      "|     Greece|      super-league-1|  2013|2452116|   34|        34|\n",
      "|Netherlands|          eredivisie|  2016|2700925|   34|        34|\n",
      "|   Scotland|scottish-premiership|  2018|3080391|   33|        33|\n",
      "+-----------+--------------------+------+-------+-----+----------+\n",
      "only showing top 20 rows\n",
      "\n"
     ]
    }
   ],
   "source": [
    "df.show()"
   ]
  },
  {
   "cell_type": "code",
   "execution_count": 158,
   "id": "f6a8e286-e192-4b70-96df-c1427bdafd10",
   "metadata": {},
   "outputs": [
    {
     "name": "stderr",
     "output_type": "stream",
     "text": [
      "                                                                                \r"
     ]
    }
   ],
   "source": [
    "pd_df = df.toPandas()"
   ]
  },
  {
   "cell_type": "code",
   "execution_count": 176,
   "id": "b6e44db8-8349-497b-b7bc-c17a4561a7ab",
   "metadata": {},
   "outputs": [
    {
     "data": {
      "text/html": [
       "<div>\n",
       "<style scoped>\n",
       "    .dataframe tbody tr th:only-of-type {\n",
       "        vertical-align: middle;\n",
       "    }\n",
       "\n",
       "    .dataframe tbody tr th {\n",
       "        vertical-align: top;\n",
       "    }\n",
       "\n",
       "    .dataframe thead th {\n",
       "        text-align: right;\n",
       "    }\n",
       "</style>\n",
       "<table border=\"1\" class=\"dataframe\">\n",
       "  <thead>\n",
       "    <tr style=\"text-align: right;\">\n",
       "      <th></th>\n",
       "      <th>country</th>\n",
       "      <th>leagueName</th>\n",
       "      <th>season</th>\n",
       "      <th>game_id</th>\n",
       "      <th>home_club_position</th>\n",
       "      <th>away_club_position</th>\n",
       "    </tr>\n",
       "  </thead>\n",
       "  <tbody>\n",
       "    <tr>\n",
       "      <th>42</th>\n",
       "      <td>Denmark</td>\n",
       "      <td>superligaen</td>\n",
       "      <td>2018</td>\n",
       "      <td>3063780</td>\n",
       "      <td>1</td>\n",
       "      <td>13</td>\n",
       "    </tr>\n",
       "    <tr>\n",
       "      <th>150</th>\n",
       "      <td>Russia</td>\n",
       "      <td>premier-liga</td>\n",
       "      <td>2018</td>\n",
       "      <td>3183732</td>\n",
       "      <td>1</td>\n",
       "      <td>16</td>\n",
       "    </tr>\n",
       "    <tr>\n",
       "      <th>176</th>\n",
       "      <td>Scotland</td>\n",
       "      <td>scottish-premiership</td>\n",
       "      <td>2018</td>\n",
       "      <td>3080391</td>\n",
       "      <td>1</td>\n",
       "      <td>9</td>\n",
       "    </tr>\n",
       "    <tr>\n",
       "      <th>254</th>\n",
       "      <td>Netherlands</td>\n",
       "      <td>eredivisie</td>\n",
       "      <td>2018</td>\n",
       "      <td>3141202</td>\n",
       "      <td>17</td>\n",
       "      <td>1</td>\n",
       "    </tr>\n",
       "    <tr>\n",
       "      <th>328</th>\n",
       "      <td>Germany</td>\n",
       "      <td>bundesliga</td>\n",
       "      <td>2018</td>\n",
       "      <td>3058720</td>\n",
       "      <td>1</td>\n",
       "      <td>7</td>\n",
       "    </tr>\n",
       "    <tr>\n",
       "      <th>332</th>\n",
       "      <td>Italy</td>\n",
       "      <td>serie-a</td>\n",
       "      <td>2018</td>\n",
       "      <td>3081405</td>\n",
       "      <td>9</td>\n",
       "      <td>1</td>\n",
       "    </tr>\n",
       "    <tr>\n",
       "      <th>405</th>\n",
       "      <td>Turkey</td>\n",
       "      <td>super-lig</td>\n",
       "      <td>2018</td>\n",
       "      <td>3070006</td>\n",
       "      <td>12</td>\n",
       "      <td>1</td>\n",
       "    </tr>\n",
       "    <tr>\n",
       "      <th>482</th>\n",
       "      <td>Greece</td>\n",
       "      <td>super-league-1</td>\n",
       "      <td>2018</td>\n",
       "      <td>3159963</td>\n",
       "      <td>14</td>\n",
       "      <td>1</td>\n",
       "    </tr>\n",
       "    <tr>\n",
       "      <th>647</th>\n",
       "      <td>Belgium</td>\n",
       "      <td>jupiler-pro-league</td>\n",
       "      <td>2018</td>\n",
       "      <td>3140035</td>\n",
       "      <td>11</td>\n",
       "      <td>1</td>\n",
       "    </tr>\n",
       "    <tr>\n",
       "      <th>791</th>\n",
       "      <td>England</td>\n",
       "      <td>premier-league</td>\n",
       "      <td>2018</td>\n",
       "      <td>3050561</td>\n",
       "      <td>17</td>\n",
       "      <td>1</td>\n",
       "    </tr>\n",
       "    <tr>\n",
       "      <th>830</th>\n",
       "      <td>France</td>\n",
       "      <td>ligue-1</td>\n",
       "      <td>2018</td>\n",
       "      <td>3047898</td>\n",
       "      <td>8</td>\n",
       "      <td>1</td>\n",
       "    </tr>\n",
       "    <tr>\n",
       "      <th>1075</th>\n",
       "      <td>Ukraine</td>\n",
       "      <td>premier-liga</td>\n",
       "      <td>2018</td>\n",
       "      <td>3114088</td>\n",
       "      <td>4</td>\n",
       "      <td>1</td>\n",
       "    </tr>\n",
       "    <tr>\n",
       "      <th>1152</th>\n",
       "      <td>Spain</td>\n",
       "      <td>laliga</td>\n",
       "      <td>2018</td>\n",
       "      <td>3081128</td>\n",
       "      <td>12</td>\n",
       "      <td>1</td>\n",
       "    </tr>\n",
       "  </tbody>\n",
       "</table>\n",
       "</div>"
      ],
      "text/plain": [
       "          country            leagueName  season  game_id  home_club_position  \\\n",
       "42        Denmark           superligaen    2018  3063780                   1   \n",
       "150        Russia          premier-liga    2018  3183732                   1   \n",
       "176      Scotland  scottish-premiership    2018  3080391                   1   \n",
       "254   Netherlands            eredivisie    2018  3141202                  17   \n",
       "328       Germany            bundesliga    2018  3058720                   1   \n",
       "332         Italy               serie-a    2018  3081405                   9   \n",
       "405        Turkey             super-lig    2018  3070006                  12   \n",
       "482        Greece        super-league-1    2018  3159963                  14   \n",
       "647       Belgium    jupiler-pro-league    2018  3140035                  11   \n",
       "791       England        premier-league    2018  3050561                  17   \n",
       "830        France               ligue-1    2018  3047898                   8   \n",
       "1075      Ukraine          premier-liga    2018  3114088                   4   \n",
       "1152        Spain                laliga    2018  3081128                  12   \n",
       "\n",
       "      away_club_position  \n",
       "42                    13  \n",
       "150                   16  \n",
       "176                    9  \n",
       "254                    1  \n",
       "328                    7  \n",
       "332                    1  \n",
       "405                    1  \n",
       "482                    1  \n",
       "647                    1  \n",
       "791                    1  \n",
       "830                    1  \n",
       "1075                   1  \n",
       "1152                   1  "
      ]
     },
     "execution_count": 176,
     "metadata": {},
     "output_type": "execute_result"
    }
   ],
   "source": [
    "pd_df[((pd_df['home_club_position']==1) | (pd_df['away_club_position']==1)) & (pd_df['season']==2018)]"
   ]
  },
  {
   "cell_type": "code",
   "execution_count": 148,
   "id": "b8528821-6018-4bcd-a2be-353ad73a77cf",
   "metadata": {},
   "outputs": [
    {
     "name": "stdout",
     "output_type": "stream",
     "text": [
      "root\n",
      " |-- game_id: integer (nullable = true)\n",
      " |-- competition_id: string (nullable = true)\n",
      " |-- season: integer (nullable = true)\n",
      " |-- round: string (nullable = true)\n",
      " |-- date: date (nullable = true)\n",
      " |-- home_club_id: integer (nullable = true)\n",
      " |-- away_club_id: integer (nullable = true)\n",
      " |-- home_club_goals: integer (nullable = true)\n",
      " |-- away_club_goals: integer (nullable = true)\n",
      " |-- home_club_position: integer (nullable = true)\n",
      " |-- away_club_position: integer (nullable = true)\n",
      " |-- home_club_manager_name: string (nullable = true)\n",
      " |-- away_club_manager_name: string (nullable = true)\n",
      " |-- stadium: string (nullable = true)\n",
      " |-- attendance: integer (nullable = true)\n",
      " |-- referee: string (nullable = true)\n",
      " |-- url: string (nullable = true)\n",
      " |-- home_club_name: string (nullable = true)\n",
      " |-- away_club_name: string (nullable = true)\n",
      " |-- aggregate: timestamp (nullable = true)\n",
      " |-- competition_type: string (nullable = true)\n",
      "\n"
     ]
    }
   ],
   "source": [
    "games.printSchema()"
   ]
  },
  {
   "cell_type": "code",
   "execution_count": 68,
   "id": "dd0b66e0-0090-47dd-8a51-6510bdd74dd7",
   "metadata": {},
   "outputs": [],
   "source": [
    "from pyspark.sql.functions import isnan, when, count, col\n",
    "\n",
    "# To count the number of missing values let's define a function\n",
    "\n",
    "def show_missing_values(name, dataframe):\n",
    "    print(name.capitalize())\n",
    "    dataframe.select([count(when(isnan(c), c)).alias(c) for c,t  in dataframe.dtypes if (t != 'date' and t != 'timestamp')]).show()"
   ]
  },
  {
   "cell_type": "code",
   "execution_count": 69,
   "id": "b6ba2a87-0955-4c30-8c98-6fb3643162ce",
   "metadata": {},
   "outputs": [
    {
     "name": "stdout",
     "output_type": "stream",
     "text": [
      "Competitions\n",
      "+--------------+----------------+----+--------+----+----------+------------+--------------------+-------------+---+\n",
      "|competition_id|competition_code|name|sub_type|type|country_id|country_name|domestic_league_code|confederation|url|\n",
      "+--------------+----------------+----+--------+----+----------+------------+--------------------+-------------+---+\n",
      "|             0|               0|   0|       0|   0|         0|           0|                   0|            0|  0|\n",
      "+--------------+----------------+----+--------+----+----------+------------+--------------------+-------------+---+\n",
      "\n",
      "Clubs\n",
      "+-------+---------+----+-----------------------+------------------+----------+-----------+-----------------+---------------------+---------------------+------------+-------------+-------------------+----------+-----------+---+\n",
      "|club_id|club_code|name|domestic_competition_id|total_market_value|squad_size|average_age|foreigners_number|foreigners_percentage|national_team_players|stadium_name|stadium_seats|net_transfer_record|coach_name|last_season|url|\n",
      "+-------+---------+----+-----------------------+------------------+----------+-----------+-----------------+---------------------+---------------------+------------+-------------+-------------------+----------+-----------+---+\n",
      "|      0|        0|   0|                      0|                 0|         0|          0|                0|                    0|                    0|           0|            0|                  0|         0|          0|  0|\n",
      "+-------+---------+----+-----------------------+------------------+----------+-----------+-----------------+---------------------+---------------------+------------+-------------+-------------------+----------+-----------+---+\n",
      "\n",
      "Club_games\n"
     ]
    },
    {
     "name": "stderr",
     "output_type": "stream",
     "text": [
      "                                                                                \r"
     ]
    },
    {
     "name": "stdout",
     "output_type": "stream",
     "text": [
      "+-------+-------+---------+------------+----------------+-----------+--------------+-----------------+---------------------+-------+------+\n",
      "|game_id|club_id|own_goals|own_position|own_manager_name|opponent_id|opponent_goals|opponent_position|opponent_manager_name|hosting|is_win|\n",
      "+-------+-------+---------+------------+----------------+-----------+--------------+-----------------+---------------------+-------+------+\n",
      "|      0|      0|        0|           0|               0|          0|             0|                0|                    0|      0|     0|\n",
      "+-------+-------+---------+------------+----------------+-----------+--------------+-----------------+---------------------+-------+------+\n",
      "\n",
      "Games\n"
     ]
    },
    {
     "name": "stderr",
     "output_type": "stream",
     "text": [
      "                                                                                \r"
     ]
    },
    {
     "name": "stdout",
     "output_type": "stream",
     "text": [
      "+-------+--------------+------+-----+------------+------------+---------------+---------------+------------------+------------------+----------------------+----------------------+-------+----------+-------+---+--------------+--------------+----------------+\n",
      "|game_id|competition_id|season|round|home_club_id|away_club_id|home_club_goals|away_club_goals|home_club_position|away_club_position|home_club_manager_name|away_club_manager_name|stadium|attendance|referee|url|home_club_name|away_club_name|competition_type|\n",
      "+-------+--------------+------+-----+------------+------------+---------------+---------------+------------------+------------------+----------------------+----------------------+-------+----------+-------+---+--------------+--------------+----------------+\n",
      "|      0|             0|     0|    0|           0|           0|              0|              0|                 0|                 0|                     0|                     0|      0|         0|      0|  0|             0|             0|               0|\n",
      "+-------+--------------+------+-----+------------+------------+---------------+---------------+------------------+------------------+----------------------+----------------------+-------+----------+-------+---+--------------+--------------+----------------+\n",
      "\n",
      "Player_valuations\n"
     ]
    },
    {
     "name": "stderr",
     "output_type": "stream",
     "text": [
      "                                                                                \r"
     ]
    },
    {
     "name": "stdout",
     "output_type": "stream",
     "text": [
      "+---------+-----------+-------------------+---+---------------+-----------------------------------+\n",
      "|player_id|last_season|market_value_in_eur|  n|current_club_id|player_club_domestic_competition_id|\n",
      "+---------+-----------+-------------------+---+---------------+-----------------------------------+\n",
      "|        0|          0|                  0|  0|              0|                                  0|\n",
      "+---------+-----------+-------------------+---+---------------+-----------------------------------+\n",
      "\n",
      "Appearances\n"
     ]
    },
    {
     "name": "stderr",
     "output_type": "stream",
     "text": [
      "                                                                                \r"
     ]
    },
    {
     "name": "stdout",
     "output_type": "stream",
     "text": [
      "+-------------+-------+---------+--------------+----------------------+-----------+--------------+------------+---------+-----+-------+--------------+\n",
      "|appearance_id|game_id|player_id|player_club_id|player_current_club_id|player_name|competition_id|yellow_cards|red_cards|goals|assists|minutes_played|\n",
      "+-------------+-------+---------+--------------+----------------------+-----------+--------------+------------+---------+-----+-------+--------------+\n",
      "|            0|      0|        0|             0|                     0|          0|             0|           0|        0|    0|      0|             0|\n",
      "+-------------+-------+---------+--------------+----------------------+-----------+--------------+------------+---------+-----+-------+--------------+\n",
      "\n",
      "Players\n"
     ]
    },
    {
     "name": "stderr",
     "output_type": "stream",
     "text": [
      "                                                                                \r"
     ]
    },
    {
     "name": "stdout",
     "output_type": "stream",
     "text": [
      "+---------+----------+---------+----+-----------+---------------+-----------+----------------+-------------+----------------------+------------+--------+----+------------+-------------------+---------------------------+----------+---------+---+------------------------------------+-----------------+\n",
      "|player_id|first_name|last_name|name|last_season|current_club_id|player_code|country_of_birth|city_of_birth|country_of_citizenship|sub_position|position|foot|height_in_cm|market_value_in_eur|highest_market_value_in_eur|agent_name|image_url|url|current_club_domestic_competition_id|current_club_name|\n",
      "+---------+----------+---------+----+-----------+---------------+-----------+----------------+-------------+----------------------+------------+--------+----+------------+-------------------+---------------------------+----------+---------+---+------------------------------------+-----------------+\n",
      "|        0|         0|        0|   0|          0|              0|          0|               0|            0|                     0|           0|       0|   0|           0|                  0|                          0|         0|        0|  0|                                   0|                0|\n",
      "+---------+----------+---------+----+-----------+---------------+-----------+----------------+-------------+----------------------+------------+--------+----+------------+-------------------+---------------------------+----------+---------+---+------------------------------------+-----------------+\n",
      "\n",
      "Game_events\n"
     ]
    },
    {
     "name": "stderr",
     "output_type": "stream",
     "text": [
      "[Stage 197:==========================================>              (3 + 1) / 4]\r"
     ]
    },
    {
     "name": "stdout",
     "output_type": "stream",
     "text": [
      "+-------+------+----+-------+---------+-----------+------------+\n",
      "|game_id|minute|type|club_id|player_id|description|player_in_id|\n",
      "+-------+------+----+-------+---------+-----------+------------+\n",
      "|      0|     0|   0|      0|        0|          0|           0|\n",
      "+-------+------+----+-------+---------+-----------+------------+\n",
      "\n"
     ]
    },
    {
     "name": "stderr",
     "output_type": "stream",
     "text": [
      "                                                                                \r"
     ]
    }
   ],
   "source": [
    "for name, df in zip(names, dataframes):\n",
    "    show_missing_values(name, df)"
   ]
  },
  {
   "cell_type": "code",
   "execution_count": 45,
   "id": "43140ca4-2f15-4573-89ec-78f2ac14e541",
   "metadata": {},
   "outputs": [
    {
     "name": "stdout",
     "output_type": "stream",
     "text": [
      "+-------+------------------+-----------------+------------------+------------------+---------------------+\n",
      "|summary|           club_id|       squad_size|       average_age| foreigners_number|foreigners_percentage|\n",
      "+-------+------------------+-----------------+------------------+------------------+---------------------+\n",
      "|  count|               411|              411|               373|               411|                  365|\n",
      "|   mean| 4879.778588807786|24.51094890510949|25.691152815013417|10.914841849148418|    44.86410958904111|\n",
      "| stddev|10896.048964698235| 8.89130854452641|1.4859022134296458| 6.629207263190824|    19.52414395948243|\n",
      "|    min|                 3|                0|              21.0|                 0|                  2.4|\n",
      "|    max|             83678|               41|              29.5|                27|                100.0|\n",
      "+-------+------------------+-----------------+------------------+------------------+---------------------+\n",
      "\n",
      "+-------+---------------------+-----------------+------------------+\n",
      "|summary|national_team_players|    stadium_seats|       last_season|\n",
      "+-------+---------------------+-----------------+------------------+\n",
      "|  count|                  411|              411|               411|\n",
      "|   mean|    4.875912408759124|24794.14111922141|2020.1313868613138|\n",
      "| stddev|    5.102049213568497|17537.53637548617|2.8707546001641333|\n",
      "|    min|                    0|                0|              2012|\n",
      "|    max|                   25|            99354|              2022|\n",
      "+-------+---------------------+-----------------+------------------+\n",
      "\n"
     ]
    }
   ],
   "source": [
    "print_statistical_summary(clubs)"
   ]
  },
  {
   "cell_type": "code",
   "execution_count": 91,
   "id": "1eecac64-7d48-42df-8d6a-ac308ce3b7b0",
   "metadata": {},
   "outputs": [],
   "source": [
    "query = '''\n",
    "        Select DISTINCT G.competition_id, C.name AS CompetitionName, C.country_name AS CountryName\n",
    "        FROM Games AS G\n",
    "        LEFT JOIN Competitions AS C\n",
    "        ON G.competition_id = C.competition_id\n",
    "        WHERE C.country_name = \"Russia\"\n",
    "        '''\n",
    "\n",
    "df = spark.sql(query)"
   ]
  },
  {
   "cell_type": "code",
   "execution_count": 113,
   "id": "cc45fe2b-7a93-4df7-9c8d-02d1d064258d",
   "metadata": {},
   "outputs": [],
   "source": [
    "df = df.toPandas()"
   ]
  },
  {
   "cell_type": "code",
   "execution_count": 114,
   "id": "e3a15011-3f00-4201-a3da-ddd101ab5258",
   "metadata": {
    "tags": []
   },
   "outputs": [
    {
     "data": {
      "text/html": [
       "<div>\n",
       "<style scoped>\n",
       "    .dataframe tbody tr th:only-of-type {\n",
       "        vertical-align: middle;\n",
       "    }\n",
       "\n",
       "    .dataframe tbody tr th {\n",
       "        vertical-align: top;\n",
       "    }\n",
       "\n",
       "    .dataframe thead th {\n",
       "        text-align: right;\n",
       "    }\n",
       "</style>\n",
       "<table border=\"1\" class=\"dataframe\">\n",
       "  <thead>\n",
       "    <tr style=\"text-align: right;\">\n",
       "      <th></th>\n",
       "      <th>country_name</th>\n",
       "      <th>clubs_count</th>\n",
       "    </tr>\n",
       "  </thead>\n",
       "  <tbody>\n",
       "    <tr>\n",
       "      <th>0</th>\n",
       "      <td>England</td>\n",
       "      <td>35</td>\n",
       "    </tr>\n",
       "    <tr>\n",
       "      <th>1</th>\n",
       "      <td>Spain</td>\n",
       "      <td>32</td>\n",
       "    </tr>\n",
       "    <tr>\n",
       "      <th>2</th>\n",
       "      <td>Denmark</td>\n",
       "      <td>19</td>\n",
       "    </tr>\n",
       "    <tr>\n",
       "      <th>3</th>\n",
       "      <td>France</td>\n",
       "      <td>34</td>\n",
       "    </tr>\n",
       "    <tr>\n",
       "      <th>4</th>\n",
       "      <td>Russia</td>\n",
       "      <td>31</td>\n",
       "    </tr>\n",
       "    <tr>\n",
       "      <th>5</th>\n",
       "      <td>Scotland</td>\n",
       "      <td>16</td>\n",
       "    </tr>\n",
       "    <tr>\n",
       "      <th>6</th>\n",
       "      <td>Portugal</td>\n",
       "      <td>32</td>\n",
       "    </tr>\n",
       "    <tr>\n",
       "      <th>7</th>\n",
       "      <td>Germany</td>\n",
       "      <td>28</td>\n",
       "    </tr>\n",
       "    <tr>\n",
       "      <th>8</th>\n",
       "      <td>Belgium</td>\n",
       "      <td>25</td>\n",
       "    </tr>\n",
       "    <tr>\n",
       "      <th>9</th>\n",
       "      <td>Ukraine</td>\n",
       "      <td>31</td>\n",
       "    </tr>\n",
       "    <tr>\n",
       "      <th>10</th>\n",
       "      <td>Turkey</td>\n",
       "      <td>38</td>\n",
       "    </tr>\n",
       "    <tr>\n",
       "      <th>11</th>\n",
       "      <td>Italy</td>\n",
       "      <td>37</td>\n",
       "    </tr>\n",
       "    <tr>\n",
       "      <th>12</th>\n",
       "      <td>Greece</td>\n",
       "      <td>26</td>\n",
       "    </tr>\n",
       "    <tr>\n",
       "      <th>13</th>\n",
       "      <td>Netherlands</td>\n",
       "      <td>27</td>\n",
       "    </tr>\n",
       "  </tbody>\n",
       "</table>\n",
       "</div>"
      ],
      "text/plain": [
       "   country_name  clubs_count\n",
       "0       England           35\n",
       "1         Spain           32\n",
       "2       Denmark           19\n",
       "3        France           34\n",
       "4        Russia           31\n",
       "5      Scotland           16\n",
       "6      Portugal           32\n",
       "7       Germany           28\n",
       "8       Belgium           25\n",
       "9       Ukraine           31\n",
       "10       Turkey           38\n",
       "11        Italy           37\n",
       "12       Greece           26\n",
       "13  Netherlands           27"
      ]
     },
     "execution_count": 114,
     "metadata": {},
     "output_type": "execute_result"
    }
   ],
   "source": [
    "df"
   ]
  },
  {
   "cell_type": "code",
   "execution_count": 112,
   "id": "f877e85d-41fe-440e-b688-1f2167fd98a3",
   "metadata": {},
   "outputs": [],
   "source": [
    "query = '''\n",
    "        SELECT DISTINCT country_name,\n",
    "        (SELECT COUNT(*)\n",
    "         FROM Clubs\n",
    "         WHERE Clubs.domestic_competition_id = Competitions.competition_id) AS clubs_count\n",
    "        FROM Competitions\n",
    "        WHERE Competitions.type = 'domestic_league'\n",
    "        '''\n",
    "\n",
    "df = spark.sql(query)"
   ]
  },
  {
   "cell_type": "code",
   "execution_count": 108,
   "id": "439d8d2a-e8de-4e27-b592-7b159ac8481d",
   "metadata": {},
   "outputs": [
    {
     "name": "stdout",
     "output_type": "stream",
     "text": [
      "+-----------------------+--------------------+\n",
      "|domestic_competition_id|count(DISTINCT name)|\n",
      "+-----------------------+--------------------+\n",
      "|                    IT1|                  37|\n",
      "|                    BE1|                  25|\n",
      "|                    GR1|                  26|\n",
      "|                   UKR1|                  31|\n",
      "|                    NL1|                  27|\n",
      "|                    SC1|                  16|\n",
      "|                    FR1|                  34|\n",
      "|                    RU1|                  31|\n",
      "|                    ES1|                  32|\n",
      "|                    PO1|                  32|\n",
      "|                    GB1|                  35|\n",
      "|                    TR1|                  38|\n",
      "|                     L1|                  28|\n",
      "|                    DK1|                  19|\n",
      "+-----------------------+--------------------+\n",
      "\n"
     ]
    }
   ],
   "source": [
    "query = '''\n",
    "        SELECT domestic_competition_id, COUNT(DISTINCT name)\n",
    "        FROM clubs\n",
    "        GROUP BY domestic_competition_id\n",
    "        '''\n",
    "\n",
    "spark.sql(query).show()"
   ]
  },
  {
   "cell_type": "code",
   "execution_count": 85,
   "id": "7eafa5ba-db92-48ed-9129-38f4352cfceb",
   "metadata": {},
   "outputs": [
    {
     "data": {
      "text/html": [
       "<div>\n",
       "<style scoped>\n",
       "    .dataframe tbody tr th:only-of-type {\n",
       "        vertical-align: middle;\n",
       "    }\n",
       "\n",
       "    .dataframe tbody tr th {\n",
       "        vertical-align: top;\n",
       "    }\n",
       "\n",
       "    .dataframe thead th {\n",
       "        text-align: right;\n",
       "    }\n",
       "</style>\n",
       "<table border=\"1\" class=\"dataframe\">\n",
       "  <thead>\n",
       "    <tr style=\"text-align: right;\">\n",
       "      <th></th>\n",
       "      <th>competition_id</th>\n",
       "      <th>CompetitionName</th>\n",
       "      <th>CountryName</th>\n",
       "    </tr>\n",
       "  </thead>\n",
       "  <tbody>\n",
       "    <tr>\n",
       "      <th>0</th>\n",
       "      <td>CGB</td>\n",
       "      <td>efl-cup</td>\n",
       "      <td>England</td>\n",
       "    </tr>\n",
       "    <tr>\n",
       "      <th>1</th>\n",
       "      <td>GBCS</td>\n",
       "      <td>community-shield</td>\n",
       "      <td>England</td>\n",
       "    </tr>\n",
       "    <tr>\n",
       "      <th>2</th>\n",
       "      <td>GB1</td>\n",
       "      <td>premier-league</td>\n",
       "      <td>England</td>\n",
       "    </tr>\n",
       "    <tr>\n",
       "      <th>3</th>\n",
       "      <td>FAC</td>\n",
       "      <td>fa-cup</td>\n",
       "      <td>England</td>\n",
       "    </tr>\n",
       "  </tbody>\n",
       "</table>\n",
       "</div>"
      ],
      "text/plain": [
       "  competition_id   CompetitionName CountryName\n",
       "0            CGB           efl-cup     England\n",
       "1           GBCS  community-shield     England\n",
       "2            GB1    premier-league     England\n",
       "3            FAC            fa-cup     England"
      ]
     },
     "execution_count": 85,
     "metadata": {},
     "output_type": "execute_result"
    }
   ],
   "source": [
    "df.head()"
   ]
  },
  {
   "cell_type": "code",
   "execution_count": null,
   "id": "a82aee8a-9962-4075-aeb3-128df124c608",
   "metadata": {},
   "outputs": [],
   "source": []
  }
 ],
 "metadata": {
  "kernelspec": {
   "display_name": "Python 3 (ipykernel)",
   "language": "python",
   "name": "python3"
  },
  "language_info": {
   "codemirror_mode": {
    "name": "ipython",
    "version": 3
   },
   "file_extension": ".py",
   "mimetype": "text/x-python",
   "name": "python",
   "nbconvert_exporter": "python",
   "pygments_lexer": "ipython3",
   "version": "3.9.12"
  }
 },
 "nbformat": 4,
 "nbformat_minor": 5
}
